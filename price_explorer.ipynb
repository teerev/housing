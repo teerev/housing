{
 "cells": [
  {
   "cell_type": "markdown",
   "id": "fa2acae4",
   "metadata": {},
   "source": [
    "# Leeds property prices"
   ]
  },
  {
   "cell_type": "markdown",
   "id": "282dcf1e",
   "metadata": {},
   "source": [
    "This notebook explores property prices in Leeds. It is a rough and ready and is subject to countless provisos, which include the following:\n",
    "\n",
    "- Number of bedrooms data is missing. This is presumably a strong predictor of price. I didn't attempt to find or impute this information (e.g. via Zoopla or Rightmove APIs, or scraping).\n",
    "- No proper analytic investigation (from first principles) or numerical investigation (goodness of fit) of the correct distribution for the hypothesis tests used for price change comparisons is attempted.\n",
    "- An approach based on fundamental understanding of the basic ontology of the system is always preferable to blindly-applied frequentist hypothesis tests in my firm opinion. Whatever. Brute force stats is fun!\n",
    "- No attempt is made to account for causal relationships between variables.\n"
   ]
  },
  {
   "cell_type": "code",
   "execution_count": 1,
   "id": "3d08e8f3",
   "metadata": {},
   "outputs": [
    {
     "data": {
      "text/html": [
       "<style>.container { width:100% !important; }</style>"
      ],
      "text/plain": [
       "<IPython.core.display.HTML object>"
      ]
     },
     "metadata": {},
     "output_type": "display_data"
    }
   ],
   "source": [
    "import numpy as np\n",
    "import pandas as pd\n",
    "from matplotlib import pyplot as plt\n",
    "from datetime import datetime\n",
    "\n",
    "np.set_printoptions(edgeitems=30, linewidth=100000)\n",
    "\n",
    "pd.set_option('display.max_rows', 500)\n",
    "pd.set_option('display.max_columns', 500)\n",
    "pd.set_option('display.width', 1000)\n",
    "\n",
    "# force full-width display if viewed in Chrome browser\n",
    "from IPython.core.display import display, HTML\n",
    "display(HTML(\"<style>.container { width:100% !important; }</style>\"))"
   ]
  },
  {
   "cell_type": "markdown",
   "id": "7e502803",
   "metadata": {},
   "source": [
    "## 1. Download UK Land Registry price-paid data and create bigquery dataset"
   ]
  },
  {
   "cell_type": "code",
   "execution_count": 2,
   "id": "12e7c8d3",
   "metadata": {},
   "outputs": [],
   "source": [
    "#   # download data to the VM from source: https://www.gov.uk/government/statistical-data-sets/price-paid-data-downloads\n",
    "#   !wget http://prod.publicdata.landregistry.gov.uk.s3-website-eu-west-1.amazonaws.com/pp-complete.csv\n",
    "#   \n",
    "#   # move to gcp bucket\n",
    "#   !gsutil mv pp-complete.csv gs://housingasodhfmq349p78vp57pasvpfphio/pp-complete.csv\n",
    "#          \n",
    "#   # make bigquery database called 'housing'\n",
    "#   !bq mk housing\n",
    "#   \n",
    "#   # create table called 'pricepaid' in housing database\n",
    "#   !bq load --source_format=CSV \\\n",
    "#   housing.pricepaid gs://housingasodhfmq349p78vp57pasvpfphio/pp-complete.csv \\\n",
    "#   trans_id:STRING,price:INTEGER,date:STRING,postcode:STRING,type:STRING,newbuild:STRING,tenure:STRING,paon:STRING,saon:STRING,street:STRING,locality:STRING,town_city:STRING,district:STRING,county:STRING,ppd_type:STRING,record_status:STRING"
   ]
  },
  {
   "cell_type": "code",
   "execution_count": 3,
   "id": "8e7176ec",
   "metadata": {},
   "outputs": [],
   "source": [
    "# !wget https://www.freemaptools.com/download/full-uk-postcodes/ukpostcodes.zip\n",
    "# !unzip ukpostcodes.zip\n",
    "# postcodes = pd.read_csv('ukpostcodes.csv')"
   ]
  },
  {
   "cell_type": "code",
   "execution_count": 4,
   "id": "adcfadea",
   "metadata": {},
   "outputs": [],
   "source": [
    "# https://www.freemaptools.com/download/full-uk-postcodes/ukpostcodes.zip"
   ]
  },
  {
   "cell_type": "code",
   "execution_count": null,
   "id": "d3546ad8",
   "metadata": {},
   "outputs": [],
   "source": []
  },
  {
   "cell_type": "code",
   "execution_count": null,
   "id": "8ba97475",
   "metadata": {},
   "outputs": [],
   "source": []
  },
  {
   "cell_type": "code",
   "execution_count": 5,
   "id": "b3f345b4",
   "metadata": {},
   "outputs": [],
   "source": [
    "#   !bq load --source_format=CSV \\\n",
    "#   housing.pricepaid gs://housingasodhfmq349p78vp57pasvpfphio/pp-complete.csv \\\n",
    "#   trans_id:STRING,price:INTEGER,date:STRING,postcode:STRING,type:STRING,newbuild:STRING,tenure:STRING,paon:STRING,saon:STRING,street:STRING,locality:STRING,town_city:STRING,district:STRING,county:STRING,ppd_type:STRING,record_status:STRING"
   ]
  },
  {
   "cell_type": "markdown",
   "id": "caade755",
   "metadata": {},
   "source": [
    "## 2. Query data (Leeds only)"
   ]
  },
  {
   "cell_type": "code",
   "execution_count": 6,
   "id": "f60cd311",
   "metadata": {},
   "outputs": [
    {
     "name": "stderr",
     "output_type": "stream",
     "text": [
      "Query complete after 0.01s: 100%|██████████| 1/1 [00:00<00:00, 515.90query/s] \n",
      "Downloading: 100%|██████████| 305373/305373 [00:02<00:00, 128537.50rows/s]\n"
     ]
    }
   ],
   "source": [
    "%%bigquery df\n",
    "\n",
    "SELECT * FROM housing.pricepaid\n",
    "WHERE town_city = 'LEEDS'"
   ]
  },
  {
   "cell_type": "markdown",
   "id": "81399c62",
   "metadata": {},
   "source": [
    "## 3. Inspect dataframe"
   ]
  },
  {
   "cell_type": "code",
   "execution_count": 7,
   "id": "cf7517bb",
   "metadata": {},
   "outputs": [
    {
     "data": {
      "text/html": [
       "<div>\n",
       "<style scoped>\n",
       "    .dataframe tbody tr th:only-of-type {\n",
       "        vertical-align: middle;\n",
       "    }\n",
       "\n",
       "    .dataframe tbody tr th {\n",
       "        vertical-align: top;\n",
       "    }\n",
       "\n",
       "    .dataframe thead th {\n",
       "        text-align: right;\n",
       "    }\n",
       "</style>\n",
       "<table border=\"1\" class=\"dataframe\">\n",
       "  <thead>\n",
       "    <tr style=\"text-align: right;\">\n",
       "      <th></th>\n",
       "      <th>trans_id</th>\n",
       "      <th>price</th>\n",
       "      <th>date</th>\n",
       "      <th>postcode</th>\n",
       "      <th>type</th>\n",
       "      <th>newbuild</th>\n",
       "      <th>tenure</th>\n",
       "      <th>paon</th>\n",
       "      <th>saon</th>\n",
       "      <th>street</th>\n",
       "      <th>locality</th>\n",
       "      <th>town_city</th>\n",
       "      <th>district</th>\n",
       "      <th>county</th>\n",
       "      <th>ppd_type</th>\n",
       "      <th>record_status</th>\n",
       "    </tr>\n",
       "  </thead>\n",
       "  <tbody>\n",
       "    <tr>\n",
       "      <th>0</th>\n",
       "      <td>{AC07BBD0-A011-0445-E053-6C04A8C01E31}</td>\n",
       "      <td>382500</td>\n",
       "      <td>2020-05-01 00:00</td>\n",
       "      <td>LS17 8GD</td>\n",
       "      <td>D</td>\n",
       "      <td>N</td>\n",
       "      <td>F</td>\n",
       "      <td>6</td>\n",
       "      <td></td>\n",
       "      <td>BRANDON CLOSE</td>\n",
       "      <td></td>\n",
       "      <td>LEEDS</td>\n",
       "      <td>LEEDS</td>\n",
       "      <td>WEST YORKSHIRE</td>\n",
       "      <td>A</td>\n",
       "      <td>A</td>\n",
       "    </tr>\n",
       "    <tr>\n",
       "      <th>1</th>\n",
       "      <td>{3BD53B87-79D7-4303-B999-6C57ACE3C713}</td>\n",
       "      <td>492000</td>\n",
       "      <td>2006-12-15 00:00</td>\n",
       "      <td>LS17 9BE</td>\n",
       "      <td>D</td>\n",
       "      <td>N</td>\n",
       "      <td>F</td>\n",
       "      <td>25</td>\n",
       "      <td></td>\n",
       "      <td>FIRST AVENUE</td>\n",
       "      <td>BARDSEY</td>\n",
       "      <td>LEEDS</td>\n",
       "      <td>LEEDS</td>\n",
       "      <td>WEST YORKSHIRE</td>\n",
       "      <td>A</td>\n",
       "      <td>A</td>\n",
       "    </tr>\n",
       "    <tr>\n",
       "      <th>2</th>\n",
       "      <td>{4719B1E6-26CC-4F18-818B-73A1A19D5054}</td>\n",
       "      <td>167950</td>\n",
       "      <td>2006-11-29 00:00</td>\n",
       "      <td>LS5 3NW</td>\n",
       "      <td>D</td>\n",
       "      <td>N</td>\n",
       "      <td>F</td>\n",
       "      <td>11</td>\n",
       "      <td></td>\n",
       "      <td>VESPER COURT</td>\n",
       "      <td>LEEDS</td>\n",
       "      <td>LEEDS</td>\n",
       "      <td>LEEDS</td>\n",
       "      <td>WEST YORKSHIRE</td>\n",
       "      <td>A</td>\n",
       "      <td>A</td>\n",
       "    </tr>\n",
       "    <tr>\n",
       "      <th>3</th>\n",
       "      <td>{CD1BB411-D90D-4F60-83FC-97B03877A38F}</td>\n",
       "      <td>125000</td>\n",
       "      <td>2003-04-23 00:00</td>\n",
       "      <td>LS25 2DD</td>\n",
       "      <td>D</td>\n",
       "      <td>N</td>\n",
       "      <td>F</td>\n",
       "      <td>74</td>\n",
       "      <td></td>\n",
       "      <td>COTSWOLD DRIVE</td>\n",
       "      <td>GARFORTH</td>\n",
       "      <td>LEEDS</td>\n",
       "      <td>LEEDS</td>\n",
       "      <td>WEST YORKSHIRE</td>\n",
       "      <td>A</td>\n",
       "      <td>A</td>\n",
       "    </tr>\n",
       "    <tr>\n",
       "      <th>4</th>\n",
       "      <td>{FBBB1D15-5453-4493-A329-D06B7459201A}</td>\n",
       "      <td>240000</td>\n",
       "      <td>1998-07-15 00:00</td>\n",
       "      <td>LS6 4EE</td>\n",
       "      <td>D</td>\n",
       "      <td>N</td>\n",
       "      <td>F</td>\n",
       "      <td>41</td>\n",
       "      <td></td>\n",
       "      <td>GROVE ROAD</td>\n",
       "      <td>HEADINGLEY</td>\n",
       "      <td>LEEDS</td>\n",
       "      <td>LEEDS</td>\n",
       "      <td>WEST YORKSHIRE</td>\n",
       "      <td>A</td>\n",
       "      <td>A</td>\n",
       "    </tr>\n",
       "    <tr>\n",
       "      <th>...</th>\n",
       "      <td>...</td>\n",
       "      <td>...</td>\n",
       "      <td>...</td>\n",
       "      <td>...</td>\n",
       "      <td>...</td>\n",
       "      <td>...</td>\n",
       "      <td>...</td>\n",
       "      <td>...</td>\n",
       "      <td>...</td>\n",
       "      <td>...</td>\n",
       "      <td>...</td>\n",
       "      <td>...</td>\n",
       "      <td>...</td>\n",
       "      <td>...</td>\n",
       "      <td>...</td>\n",
       "      <td>...</td>\n",
       "    </tr>\n",
       "    <tr>\n",
       "      <th>305368</th>\n",
       "      <td>{2A289E9D-C89D-CDC8-E050-A8C063054829}</td>\n",
       "      <td>96995</td>\n",
       "      <td>2001-09-07 00:00</td>\n",
       "      <td>LS25 5PZ</td>\n",
       "      <td>T</td>\n",
       "      <td>Y</td>\n",
       "      <td>F</td>\n",
       "      <td>7</td>\n",
       "      <td></td>\n",
       "      <td>MULBERRY COURT</td>\n",
       "      <td>SOUTH MILFORD</td>\n",
       "      <td>LEEDS</td>\n",
       "      <td>SELBY</td>\n",
       "      <td>NORTH YORKSHIRE</td>\n",
       "      <td>A</td>\n",
       "      <td>A</td>\n",
       "    </tr>\n",
       "    <tr>\n",
       "      <th>305369</th>\n",
       "      <td>{5CF9903C-52BF-7F13-E053-6C04A8C074B1}</td>\n",
       "      <td>150000</td>\n",
       "      <td>2017-09-22 00:00</td>\n",
       "      <td>LS25 5PN</td>\n",
       "      <td>T</td>\n",
       "      <td>N</td>\n",
       "      <td>F</td>\n",
       "      <td>3</td>\n",
       "      <td></td>\n",
       "      <td>CHESTNUT GREEN</td>\n",
       "      <td>MONK FRYSTON</td>\n",
       "      <td>LEEDS</td>\n",
       "      <td>SELBY</td>\n",
       "      <td>NORTH YORKSHIRE</td>\n",
       "      <td>A</td>\n",
       "      <td>A</td>\n",
       "    </tr>\n",
       "    <tr>\n",
       "      <th>305370</th>\n",
       "      <td>{B2E0DEBE-62AA-448E-8D06-1CC7DC6320EF}</td>\n",
       "      <td>152000</td>\n",
       "      <td>2011-10-28 00:00</td>\n",
       "      <td>LS25 5AR</td>\n",
       "      <td>T</td>\n",
       "      <td>N</td>\n",
       "      <td>F</td>\n",
       "      <td>7A</td>\n",
       "      <td></td>\n",
       "      <td>LOW STREET</td>\n",
       "      <td>SOUTH MILFORD</td>\n",
       "      <td>LEEDS</td>\n",
       "      <td>SELBY</td>\n",
       "      <td>NORTH YORKSHIRE</td>\n",
       "      <td>A</td>\n",
       "      <td>A</td>\n",
       "    </tr>\n",
       "    <tr>\n",
       "      <th>305371</th>\n",
       "      <td>{5F54B81E-2FDB-2B45-E053-6B04A8C01FB0}</td>\n",
       "      <td>106000</td>\n",
       "      <td>2017-06-30 00:00</td>\n",
       "      <td>LS25 6GE</td>\n",
       "      <td>T</td>\n",
       "      <td>N</td>\n",
       "      <td>F</td>\n",
       "      <td>43</td>\n",
       "      <td></td>\n",
       "      <td>BRUNSWICK CRESCENT</td>\n",
       "      <td>SHERBURN IN ELMET</td>\n",
       "      <td>LEEDS</td>\n",
       "      <td>SELBY</td>\n",
       "      <td>NORTH YORKSHIRE</td>\n",
       "      <td>B</td>\n",
       "      <td>A</td>\n",
       "    </tr>\n",
       "    <tr>\n",
       "      <th>305372</th>\n",
       "      <td>{269F14E6-F53D-4CB5-A0DD-11C13708BD47}</td>\n",
       "      <td>137000</td>\n",
       "      <td>2006-12-14 00:00</td>\n",
       "      <td>LS25 5ED</td>\n",
       "      <td>T</td>\n",
       "      <td>N</td>\n",
       "      <td>F</td>\n",
       "      <td>43</td>\n",
       "      <td></td>\n",
       "      <td>MILL CLOSE</td>\n",
       "      <td>MONK FRYSTON</td>\n",
       "      <td>LEEDS</td>\n",
       "      <td>SELBY</td>\n",
       "      <td>NORTH YORKSHIRE</td>\n",
       "      <td>A</td>\n",
       "      <td>A</td>\n",
       "    </tr>\n",
       "  </tbody>\n",
       "</table>\n",
       "<p>305373 rows × 16 columns</p>\n",
       "</div>"
      ],
      "text/plain": [
       "                                      trans_id   price              date  postcode type newbuild tenure paon saon              street           locality town_city district           county ppd_type record_status\n",
       "0       {AC07BBD0-A011-0445-E053-6C04A8C01E31}  382500  2020-05-01 00:00  LS17 8GD    D        N      F    6            BRANDON CLOSE                        LEEDS    LEEDS   WEST YORKSHIRE        A             A\n",
       "1       {3BD53B87-79D7-4303-B999-6C57ACE3C713}  492000  2006-12-15 00:00  LS17 9BE    D        N      F   25             FIRST AVENUE            BARDSEY     LEEDS    LEEDS   WEST YORKSHIRE        A             A\n",
       "2       {4719B1E6-26CC-4F18-818B-73A1A19D5054}  167950  2006-11-29 00:00   LS5 3NW    D        N      F   11             VESPER COURT              LEEDS     LEEDS    LEEDS   WEST YORKSHIRE        A             A\n",
       "3       {CD1BB411-D90D-4F60-83FC-97B03877A38F}  125000  2003-04-23 00:00  LS25 2DD    D        N      F   74           COTSWOLD DRIVE           GARFORTH     LEEDS    LEEDS   WEST YORKSHIRE        A             A\n",
       "4       {FBBB1D15-5453-4493-A329-D06B7459201A}  240000  1998-07-15 00:00   LS6 4EE    D        N      F   41               GROVE ROAD         HEADINGLEY     LEEDS    LEEDS   WEST YORKSHIRE        A             A\n",
       "...                                        ...     ...               ...       ...  ...      ...    ...  ...  ...                 ...                ...       ...      ...              ...      ...           ...\n",
       "305368  {2A289E9D-C89D-CDC8-E050-A8C063054829}   96995  2001-09-07 00:00  LS25 5PZ    T        Y      F    7           MULBERRY COURT      SOUTH MILFORD     LEEDS    SELBY  NORTH YORKSHIRE        A             A\n",
       "305369  {5CF9903C-52BF-7F13-E053-6C04A8C074B1}  150000  2017-09-22 00:00  LS25 5PN    T        N      F    3           CHESTNUT GREEN       MONK FRYSTON     LEEDS    SELBY  NORTH YORKSHIRE        A             A\n",
       "305370  {B2E0DEBE-62AA-448E-8D06-1CC7DC6320EF}  152000  2011-10-28 00:00  LS25 5AR    T        N      F   7A               LOW STREET      SOUTH MILFORD     LEEDS    SELBY  NORTH YORKSHIRE        A             A\n",
       "305371  {5F54B81E-2FDB-2B45-E053-6B04A8C01FB0}  106000  2017-06-30 00:00  LS25 6GE    T        N      F   43       BRUNSWICK CRESCENT  SHERBURN IN ELMET     LEEDS    SELBY  NORTH YORKSHIRE        B             A\n",
       "305372  {269F14E6-F53D-4CB5-A0DD-11C13708BD47}  137000  2006-12-14 00:00  LS25 5ED    T        N      F   43               MILL CLOSE       MONK FRYSTON     LEEDS    SELBY  NORTH YORKSHIRE        A             A\n",
       "\n",
       "[305373 rows x 16 columns]"
      ]
     },
     "execution_count": 7,
     "metadata": {},
     "output_type": "execute_result"
    }
   ],
   "source": [
    "df"
   ]
  },
  {
   "cell_type": "code",
   "execution_count": 8,
   "id": "fa576350",
   "metadata": {},
   "outputs": [
    {
     "data": {
      "text/plain": [
       "trans_id         305373\n",
       "price             12172\n",
       "date               7750\n",
       "postcode          14095\n",
       "type                  5\n",
       "newbuild              2\n",
       "tenure                3\n",
       "paon               6238\n",
       "saon               2357\n",
       "street             8975\n",
       "locality            121\n",
       "town_city             1\n",
       "district             11\n",
       "county                4\n",
       "ppd_type              2\n",
       "record_status         1\n",
       "dtype: int64"
      ]
     },
     "execution_count": 8,
     "metadata": {},
     "output_type": "execute_result"
    }
   ],
   "source": [
    "# how many unique values are in each column?\n",
    "df.nunique()"
   ]
  },
  {
   "cell_type": "code",
   "execution_count": 9,
   "id": "a2c83443",
   "metadata": {},
   "outputs": [
    {
     "data": {
      "text/plain": [
       "trans_id         object\n",
       "price             int64\n",
       "date             object\n",
       "postcode         object\n",
       "type             object\n",
       "newbuild         object\n",
       "tenure           object\n",
       "paon             object\n",
       "saon             object\n",
       "street           object\n",
       "locality         object\n",
       "town_city        object\n",
       "district         object\n",
       "county           object\n",
       "ppd_type         object\n",
       "record_status    object\n",
       "dtype: object"
      ]
     },
     "execution_count": 9,
     "metadata": {},
     "output_type": "execute_result"
    }
   ],
   "source": [
    "# check data types\n",
    "df.dtypes"
   ]
  },
  {
   "cell_type": "markdown",
   "id": "96ba7ba2",
   "metadata": {},
   "source": [
    "## 4. Pre-processing / clean-up"
   ]
  },
  {
   "cell_type": "markdown",
   "id": "408982c2",
   "metadata": {},
   "source": [
    "### 1. Postcode"
   ]
  },
  {
   "cell_type": "code",
   "execution_count": 10,
   "id": "7d780458",
   "metadata": {},
   "outputs": [
    {
     "data": {
      "text/plain": [
       "204"
      ]
     },
     "execution_count": 10,
     "metadata": {},
     "output_type": "execute_result"
    }
   ],
   "source": [
    "# Some rows have missing postcodes\n",
    "len(df[df['postcode'] == ''])"
   ]
  },
  {
   "cell_type": "code",
   "execution_count": 11,
   "id": "eff076f5",
   "metadata": {},
   "outputs": [
    {
     "data": {
      "text/plain": [
       "0"
      ]
     },
     "execution_count": 11,
     "metadata": {},
     "output_type": "execute_result"
    }
   ],
   "source": [
    "# Check for null entries in postcode column\n",
    "len(df[df['postcode'].isnull()])"
   ]
  },
  {
   "cell_type": "code",
   "execution_count": 12,
   "id": "348355ea",
   "metadata": {},
   "outputs": [],
   "source": [
    "# Discard rows with empty string postcodes \n",
    "df = df[df['postcode'] != '']"
   ]
  },
  {
   "cell_type": "code",
   "execution_count": 13,
   "id": "32047517",
   "metadata": {},
   "outputs": [
    {
     "data": {
      "text/plain": [
       "True"
      ]
     },
     "execution_count": 13,
     "metadata": {},
     "output_type": "execute_result"
    }
   ],
   "source": [
    "# Check that all postcodes have space\n",
    "len(df[df['postcode'].str.contains(' ')]) == len(df)"
   ]
  },
  {
   "cell_type": "code",
   "execution_count": 14,
   "id": "0f5efd10",
   "metadata": {},
   "outputs": [
    {
     "name": "stdout",
     "output_type": "stream",
     "text": [
      "A1 2BC {'area': 'A', 'district': '1', 'sector': '2', 'unit': 'BC'}\n",
      "A12 3BC {'area': 'A', 'district': '12', 'sector': '3', 'unit': 'BC'}\n",
      "AB1 2BC {'area': 'AB', 'district': '1', 'sector': '2', 'unit': 'BC'}\n",
      "AB12 3CD {'area': 'AB', 'district': '12', 'sector': '3', 'unit': 'CD'}\n",
      "A1B 2BC {'area': 'A', 'district': '1B', 'sector': '2', 'unit': 'BC'}\n",
      "AB1C 2DE {'area': 'AB', 'district': '1C', 'sector': '2', 'unit': 'DE'}\n"
     ]
    }
   ],
   "source": [
    "# Break down postcodes into components: area, district, sector ,and unit. \n",
    "def get_postcode_components(postcode):\n",
    "    \n",
    "    \"\"\"\n",
    "    Returns part of all of a postcode string resolved into area, district, sector or unit. \n",
    "    \n",
    "    UK postcodes take any of the following formats, where A denotes alphabetical\n",
    "    and N denotes numeric:\n",
    "    \n",
    "    AN NAA \n",
    "    ANN NAA\n",
    "    AAN NAA\n",
    "    AANN NAA\n",
    "    ANA NAA\n",
    "    AANA NAA\n",
    "    \n",
    "    (source: https://assets.publishing.service.gov.uk/government/uploads/system/uploads/attachment_data/file/611951/Appendix_C_ILR_2017_to_2018_v1_Published_28April17.pdf)\n",
    "    \n",
    "    - Area is the leftmost substring of alpha characters until (and excluding) a numeric character .Format: A or AA.\n",
    "    - District is the substring commencing with numeric after the area, and before the space. Format: N, NN, or NA.\n",
    "    - Sector is the first numeric character after the space. Format: N.\n",
    "    - Unit is the rightmost substring. Format: AA.\n",
    "   \n",
    "    e.g.:\n",
    "    >> get_postcode_component('RG40 2WD', component='sector')\n",
    "    >> 2   \n",
    "    \n",
    "    e.g. 2:\n",
    "    >> get_postcode_component('EC1A 3HX', component='area')\n",
    "    >> EC\n",
    "    \n",
    "    e.g. 3:\n",
    "    >> get_postcode_component('EC1A 3HX', component='district')\n",
    "    >> 1A\n",
    "    \"\"\"\n",
    "    \n",
    "    # e.g. EC1A 3HX\n",
    "    area_and_district = postcode.split(' ')[0] # EC1A\n",
    "    sector_and_unit = postcode.split(' ')[1] # 3HX\n",
    "        \n",
    "    for index, char in enumerate(area_and_district):\n",
    "        if char.isnumeric():\n",
    "            area = area_and_district[:index] # EC\n",
    "            district = area_and_district[index:] #1A\n",
    "            break\n",
    "\n",
    "    for index, char in enumerate(sector_and_unit):\n",
    "        if char.isnumeric():\n",
    "            unit = sector_and_unit[index+1:] # 3\n",
    "            sector = sector_and_unit[:index+1] # HX\n",
    "            break\n",
    "    \n",
    "    return dict({'area':area,\n",
    "                 'district':district,\n",
    "                 'sector':sector,\n",
    "                 'unit':unit}\n",
    "               )\n",
    "\n",
    "\n",
    "# tests\n",
    "test_postcodes = ['A1 2BC', 'A12 3BC', 'AB1 2BC', 'AB12 3CD', 'A1B 2BC', 'AB1C 2DE']\n",
    "for postcode in test_postcodes:\n",
    "    print(postcode, get_postcode_components(postcode))"
   ]
  },
  {
   "cell_type": "code",
   "execution_count": 15,
   "id": "c5ace48d",
   "metadata": {},
   "outputs": [
    {
     "name": "stderr",
     "output_type": "stream",
     "text": [
      "/opt/conda/lib/python3.7/site-packages/pandas/core/frame.py:3607: SettingWithCopyWarning: \n",
      "A value is trying to be set on a copy of a slice from a DataFrame.\n",
      "Try using .loc[row_indexer,col_indexer] = value instead\n",
      "\n",
      "See the caveats in the documentation: https://pandas.pydata.org/pandas-docs/stable/user_guide/indexing.html#returning-a-view-versus-a-copy\n",
      "  self._set_item(key, value)\n"
     ]
    }
   ],
   "source": [
    "# create new columns with postcode components\n",
    "df['postcode_area'] = df['postcode'].apply(lambda x: get_postcode_components(x)['area'])\n",
    "df['postcode_district'] = df['postcode'].apply(lambda x: get_postcode_components(x)['district'])\n",
    "df['postcode_sector'] = df['postcode'].apply(lambda x: get_postcode_components(x)['sector'])\n",
    "df['postcode_unit'] = df['postcode'].apply(lambda x: get_postcode_components(x)['unit'])"
   ]
  },
  {
   "cell_type": "markdown",
   "id": "05692300",
   "metadata": {},
   "source": [
    "### 2. Date"
   ]
  },
  {
   "cell_type": "code",
   "execution_count": 16,
   "id": "64e27359",
   "metadata": {},
   "outputs": [],
   "source": [
    "# convert dates to timestamp and discard meaningless 00:00 hours/minutes data\n",
    "df['date'] = df['date'].apply(lambda x: datetime.strptime(x, '%Y-%m-%d %H:%M'))\n",
    "\n",
    "# sort by date\n",
    "df = df.sort_values(by='date')"
   ]
  },
  {
   "cell_type": "markdown",
   "id": "0b5cb28e",
   "metadata": {},
   "source": [
    "### 3. Various"
   ]
  },
  {
   "cell_type": "code",
   "execution_count": 17,
   "id": "55780fad",
   "metadata": {},
   "outputs": [],
   "source": [
    "# rename column to avoid keyword clash\n",
    "df.rename(columns={'type': 'property_type'}, inplace=True)\n",
    "\n",
    "# convert to lower case\n",
    "df['street'] = df['street'].str.lower()\n",
    "df['locality'] = df['locality'].str.lower()\n",
    "df['town_city'] = df['town_city'].str.lower()\n",
    "df['county'] = df['county'].str.lower()\n",
    "df['district'] = df['district'].str.lower()\n",
    "\n",
    "# convert letter codes to words for easier viewing/understanding\n",
    "df['newbuild'] = df['newbuild'].apply(lambda x: 'newbuild' if x=='Y' else ('oldbuild' if x=='N' else x))\n",
    "df['tenure'] = df['tenure'].apply(lambda x: 'freehold' if x=='F' else('leasehold' if x=='L' else 'unknown'))\n",
    "df['property_type'] = df['property_type'].apply(lambda x: 'detached' if x=='D' else ('semi' if x=='S' else('terraced' if x=='T' else ('flat' if x=='F' else 'other'))))"
   ]
  },
  {
   "cell_type": "code",
   "execution_count": 18,
   "id": "18bc670f",
   "metadata": {},
   "outputs": [
    {
     "data": {
      "text/html": [
       "<div>\n",
       "<style scoped>\n",
       "    .dataframe tbody tr th:only-of-type {\n",
       "        vertical-align: middle;\n",
       "    }\n",
       "\n",
       "    .dataframe tbody tr th {\n",
       "        vertical-align: top;\n",
       "    }\n",
       "\n",
       "    .dataframe thead th {\n",
       "        text-align: right;\n",
       "    }\n",
       "</style>\n",
       "<table border=\"1\" class=\"dataframe\">\n",
       "  <thead>\n",
       "    <tr style=\"text-align: right;\">\n",
       "      <th></th>\n",
       "      <th>trans_id</th>\n",
       "      <th>price</th>\n",
       "      <th>date</th>\n",
       "      <th>postcode</th>\n",
       "      <th>property_type</th>\n",
       "      <th>newbuild</th>\n",
       "      <th>tenure</th>\n",
       "      <th>paon</th>\n",
       "      <th>saon</th>\n",
       "      <th>street</th>\n",
       "      <th>locality</th>\n",
       "      <th>town_city</th>\n",
       "      <th>district</th>\n",
       "      <th>county</th>\n",
       "      <th>ppd_type</th>\n",
       "      <th>record_status</th>\n",
       "      <th>postcode_area</th>\n",
       "      <th>postcode_district</th>\n",
       "      <th>postcode_sector</th>\n",
       "      <th>postcode_unit</th>\n",
       "    </tr>\n",
       "  </thead>\n",
       "  <tbody>\n",
       "    <tr>\n",
       "      <th>1133</th>\n",
       "      <td>{9814661F-EF38-4E76-BC8B-CE526C9DA243}</td>\n",
       "      <td>95950</td>\n",
       "      <td>1995-01-02</td>\n",
       "      <td>LS19 7WF</td>\n",
       "      <td>detached</td>\n",
       "      <td>newbuild</td>\n",
       "      <td>freehold</td>\n",
       "      <td>8</td>\n",
       "      <td></td>\n",
       "      <td>balmoral way</td>\n",
       "      <td>yeadon</td>\n",
       "      <td>leeds</td>\n",
       "      <td>leeds</td>\n",
       "      <td>west yorkshire</td>\n",
       "      <td>A</td>\n",
       "      <td>A</td>\n",
       "      <td>LS</td>\n",
       "      <td>19</td>\n",
       "      <td>7</td>\n",
       "      <td>WF</td>\n",
       "    </tr>\n",
       "    <tr>\n",
       "      <th>205103</th>\n",
       "      <td>{203AC08D-673F-49E7-BBF1-9564E04D9089}</td>\n",
       "      <td>59950</td>\n",
       "      <td>1995-01-03</td>\n",
       "      <td>LS27 8TS</td>\n",
       "      <td>semi</td>\n",
       "      <td>newbuild</td>\n",
       "      <td>freehold</td>\n",
       "      <td>25</td>\n",
       "      <td></td>\n",
       "      <td>merlin close</td>\n",
       "      <td>morley</td>\n",
       "      <td>leeds</td>\n",
       "      <td>leeds</td>\n",
       "      <td>west yorkshire</td>\n",
       "      <td>A</td>\n",
       "      <td>A</td>\n",
       "      <td>LS</td>\n",
       "      <td>27</td>\n",
       "      <td>8</td>\n",
       "      <td>TS</td>\n",
       "    </tr>\n",
       "    <tr>\n",
       "      <th>59732</th>\n",
       "      <td>{7C77563A-B6F8-4E25-8E1D-9816793FBF9C}</td>\n",
       "      <td>89500</td>\n",
       "      <td>1995-01-03</td>\n",
       "      <td>LS6 1DF</td>\n",
       "      <td>semi</td>\n",
       "      <td>oldbuild</td>\n",
       "      <td>freehold</td>\n",
       "      <td>43</td>\n",
       "      <td></td>\n",
       "      <td>richmond mount</td>\n",
       "      <td>headingley</td>\n",
       "      <td>leeds</td>\n",
       "      <td>leeds</td>\n",
       "      <td>west yorkshire</td>\n",
       "      <td>A</td>\n",
       "      <td>A</td>\n",
       "      <td>LS</td>\n",
       "      <td>6</td>\n",
       "      <td>1</td>\n",
       "      <td>DF</td>\n",
       "    </tr>\n",
       "    <tr>\n",
       "      <th>1094</th>\n",
       "      <td>{A193850F-25F2-46F3-A379-A3F5C8A34282}</td>\n",
       "      <td>140000</td>\n",
       "      <td>1995-01-03</td>\n",
       "      <td>LS17 8NE</td>\n",
       "      <td>detached</td>\n",
       "      <td>oldbuild</td>\n",
       "      <td>freehold</td>\n",
       "      <td>270</td>\n",
       "      <td></td>\n",
       "      <td>wetherby road</td>\n",
       "      <td>leeds</td>\n",
       "      <td>leeds</td>\n",
       "      <td>leeds</td>\n",
       "      <td>west yorkshire</td>\n",
       "      <td>A</td>\n",
       "      <td>A</td>\n",
       "      <td>LS</td>\n",
       "      <td>17</td>\n",
       "      <td>8</td>\n",
       "      <td>NE</td>\n",
       "    </tr>\n",
       "    <tr>\n",
       "      <th>180656</th>\n",
       "      <td>{2359AE71-7172-45C2-B628-12FBDFEF3F1C}</td>\n",
       "      <td>83950</td>\n",
       "      <td>1995-01-03</td>\n",
       "      <td>LS26 9BA</td>\n",
       "      <td>detached</td>\n",
       "      <td>newbuild</td>\n",
       "      <td>freehold</td>\n",
       "      <td>45</td>\n",
       "      <td></td>\n",
       "      <td>pinders green drive</td>\n",
       "      <td>methley</td>\n",
       "      <td>leeds</td>\n",
       "      <td>leeds</td>\n",
       "      <td>west yorkshire</td>\n",
       "      <td>A</td>\n",
       "      <td>A</td>\n",
       "      <td>LS</td>\n",
       "      <td>26</td>\n",
       "      <td>9</td>\n",
       "      <td>BA</td>\n",
       "    </tr>\n",
       "    <tr>\n",
       "      <th>...</th>\n",
       "      <td>...</td>\n",
       "      <td>...</td>\n",
       "      <td>...</td>\n",
       "      <td>...</td>\n",
       "      <td>...</td>\n",
       "      <td>...</td>\n",
       "      <td>...</td>\n",
       "      <td>...</td>\n",
       "      <td>...</td>\n",
       "      <td>...</td>\n",
       "      <td>...</td>\n",
       "      <td>...</td>\n",
       "      <td>...</td>\n",
       "      <td>...</td>\n",
       "      <td>...</td>\n",
       "      <td>...</td>\n",
       "      <td>...</td>\n",
       "      <td>...</td>\n",
       "      <td>...</td>\n",
       "      <td>...</td>\n",
       "    </tr>\n",
       "    <tr>\n",
       "      <th>262021</th>\n",
       "      <td>{DBA933FA-4CF4-669D-E053-6B04A8C0AD56}</td>\n",
       "      <td>160000</td>\n",
       "      <td>2022-03-18</td>\n",
       "      <td>LS8 3PA</td>\n",
       "      <td>semi</td>\n",
       "      <td>oldbuild</td>\n",
       "      <td>freehold</td>\n",
       "      <td>44</td>\n",
       "      <td></td>\n",
       "      <td>st wilfrids avenue</td>\n",
       "      <td></td>\n",
       "      <td>leeds</td>\n",
       "      <td>leeds</td>\n",
       "      <td>west yorkshire</td>\n",
       "      <td>A</td>\n",
       "      <td>A</td>\n",
       "      <td>LS</td>\n",
       "      <td>8</td>\n",
       "      <td>3</td>\n",
       "      <td>PA</td>\n",
       "    </tr>\n",
       "    <tr>\n",
       "      <th>249369</th>\n",
       "      <td>{DBA933FA-4AE1-669D-E053-6B04A8C0AD56}</td>\n",
       "      <td>75000</td>\n",
       "      <td>2022-03-18</td>\n",
       "      <td>LS8 5LW</td>\n",
       "      <td>terraced</td>\n",
       "      <td>oldbuild</td>\n",
       "      <td>freehold</td>\n",
       "      <td>76</td>\n",
       "      <td></td>\n",
       "      <td>bayswater mount</td>\n",
       "      <td></td>\n",
       "      <td>leeds</td>\n",
       "      <td>leeds</td>\n",
       "      <td>west yorkshire</td>\n",
       "      <td>A</td>\n",
       "      <td>A</td>\n",
       "      <td>LS</td>\n",
       "      <td>8</td>\n",
       "      <td>5</td>\n",
       "      <td>LW</td>\n",
       "    </tr>\n",
       "    <tr>\n",
       "      <th>143275</th>\n",
       "      <td>{DBA933FA-5109-669D-E053-6B04A8C0AD56}</td>\n",
       "      <td>160000</td>\n",
       "      <td>2022-03-18</td>\n",
       "      <td>LS25 7BX</td>\n",
       "      <td>terraced</td>\n",
       "      <td>oldbuild</td>\n",
       "      <td>freehold</td>\n",
       "      <td>21</td>\n",
       "      <td></td>\n",
       "      <td>ledston luck cottages</td>\n",
       "      <td>kippax</td>\n",
       "      <td>leeds</td>\n",
       "      <td>leeds</td>\n",
       "      <td>west yorkshire</td>\n",
       "      <td>A</td>\n",
       "      <td>A</td>\n",
       "      <td>LS</td>\n",
       "      <td>25</td>\n",
       "      <td>7</td>\n",
       "      <td>BX</td>\n",
       "    </tr>\n",
       "    <tr>\n",
       "      <th>232157</th>\n",
       "      <td>{DBA933FA-4EC1-669D-E053-6B04A8C0AD56}</td>\n",
       "      <td>80000</td>\n",
       "      <td>2022-03-18</td>\n",
       "      <td>LS9 6HZ</td>\n",
       "      <td>terraced</td>\n",
       "      <td>oldbuild</td>\n",
       "      <td>freehold</td>\n",
       "      <td>34</td>\n",
       "      <td></td>\n",
       "      <td>nowell avenue</td>\n",
       "      <td></td>\n",
       "      <td>leeds</td>\n",
       "      <td>leeds</td>\n",
       "      <td>west yorkshire</td>\n",
       "      <td>A</td>\n",
       "      <td>A</td>\n",
       "      <td>LS</td>\n",
       "      <td>9</td>\n",
       "      <td>6</td>\n",
       "      <td>HZ</td>\n",
       "    </tr>\n",
       "    <tr>\n",
       "      <th>286505</th>\n",
       "      <td>{DBA933FA-4F77-669D-E053-6B04A8C0AD56}</td>\n",
       "      <td>115000</td>\n",
       "      <td>2022-03-21</td>\n",
       "      <td>LS12 3EQ</td>\n",
       "      <td>terraced</td>\n",
       "      <td>oldbuild</td>\n",
       "      <td>freehold</td>\n",
       "      <td>20</td>\n",
       "      <td></td>\n",
       "      <td>barden place</td>\n",
       "      <td></td>\n",
       "      <td>leeds</td>\n",
       "      <td>leeds</td>\n",
       "      <td>west yorkshire</td>\n",
       "      <td>A</td>\n",
       "      <td>A</td>\n",
       "      <td>LS</td>\n",
       "      <td>12</td>\n",
       "      <td>3</td>\n",
       "      <td>EQ</td>\n",
       "    </tr>\n",
       "  </tbody>\n",
       "</table>\n",
       "<p>305169 rows × 20 columns</p>\n",
       "</div>"
      ],
      "text/plain": [
       "                                      trans_id   price       date  postcode property_type  newbuild    tenure paon saon                 street    locality town_city district          county ppd_type record_status postcode_area postcode_district postcode_sector postcode_unit\n",
       "1133    {9814661F-EF38-4E76-BC8B-CE526C9DA243}   95950 1995-01-02  LS19 7WF      detached  newbuild  freehold    8                balmoral way      yeadon     leeds    leeds  west yorkshire        A             A            LS                19               7            WF\n",
       "205103  {203AC08D-673F-49E7-BBF1-9564E04D9089}   59950 1995-01-03  LS27 8TS          semi  newbuild  freehold   25                merlin close      morley     leeds    leeds  west yorkshire        A             A            LS                27               8            TS\n",
       "59732   {7C77563A-B6F8-4E25-8E1D-9816793FBF9C}   89500 1995-01-03   LS6 1DF          semi  oldbuild  freehold   43              richmond mount  headingley     leeds    leeds  west yorkshire        A             A            LS                 6               1            DF\n",
       "1094    {A193850F-25F2-46F3-A379-A3F5C8A34282}  140000 1995-01-03  LS17 8NE      detached  oldbuild  freehold  270               wetherby road       leeds     leeds    leeds  west yorkshire        A             A            LS                17               8            NE\n",
       "180656  {2359AE71-7172-45C2-B628-12FBDFEF3F1C}   83950 1995-01-03  LS26 9BA      detached  newbuild  freehold   45         pinders green drive     methley     leeds    leeds  west yorkshire        A             A            LS                26               9            BA\n",
       "...                                        ...     ...        ...       ...           ...       ...       ...  ...  ...                    ...         ...       ...      ...             ...      ...           ...           ...               ...             ...           ...\n",
       "262021  {DBA933FA-4CF4-669D-E053-6B04A8C0AD56}  160000 2022-03-18   LS8 3PA          semi  oldbuild  freehold   44          st wilfrids avenue                 leeds    leeds  west yorkshire        A             A            LS                 8               3            PA\n",
       "249369  {DBA933FA-4AE1-669D-E053-6B04A8C0AD56}   75000 2022-03-18   LS8 5LW      terraced  oldbuild  freehold   76             bayswater mount                 leeds    leeds  west yorkshire        A             A            LS                 8               5            LW\n",
       "143275  {DBA933FA-5109-669D-E053-6B04A8C0AD56}  160000 2022-03-18  LS25 7BX      terraced  oldbuild  freehold   21       ledston luck cottages      kippax     leeds    leeds  west yorkshire        A             A            LS                25               7            BX\n",
       "232157  {DBA933FA-4EC1-669D-E053-6B04A8C0AD56}   80000 2022-03-18   LS9 6HZ      terraced  oldbuild  freehold   34               nowell avenue                 leeds    leeds  west yorkshire        A             A            LS                 9               6            HZ\n",
       "286505  {DBA933FA-4F77-669D-E053-6B04A8C0AD56}  115000 2022-03-21  LS12 3EQ      terraced  oldbuild  freehold   20                barden place                 leeds    leeds  west yorkshire        A             A            LS                12               3            EQ\n",
       "\n",
       "[305169 rows x 20 columns]"
      ]
     },
     "execution_count": 18,
     "metadata": {},
     "output_type": "execute_result"
    }
   ],
   "source": [
    "df"
   ]
  },
  {
   "cell_type": "markdown",
   "id": "220eec7d",
   "metadata": {},
   "source": [
    "## 5. Prices over time: quick inspection"
   ]
  },
  {
   "cell_type": "code",
   "execution_count": 19,
   "id": "917275e3",
   "metadata": {},
   "outputs": [],
   "source": [
    "import matplotlib.pyplot as plt\n",
    "import matplotlib.dates as mdates \n",
    "from matplotlib.dates import MonthLocator\n",
    "\n",
    "\n",
    "def filter_by(dataframe, **kwargs):\n",
    "    \n",
    "    \"\"\"\n",
    "    Function to filter dataframe by whatever choice of variables\n",
    "    \n",
    "    numerical keys:  min_price, max_price, min_date, max_date\n",
    "    \n",
    "    e.g.:\n",
    "    \n",
    "    results = filter_by(dataframe=df,\n",
    "                        property_type='terraced',\n",
    "                        postcode_sector='LS13 2',\n",
    "                        min_price=0,\n",
    "                        max_price=280000,\n",
    "                        min_date='2017-06-01', \n",
    "                        )\n",
    "    \"\"\"\n",
    "    \n",
    "    for key, value in kwargs.items():        \n",
    "            # numerical variables that require a range\n",
    "            if key == 'min_price':\n",
    "                dataframe = dataframe[dataframe['price'] >= value]\n",
    "            elif key == 'max_price':\n",
    "                dataframe = dataframe[dataframe['price'] <= value]                \n",
    "            elif key == 'min_date':\n",
    "                dataframe = dataframe[dataframe['date'] >= value]\n",
    "            elif key == 'max_date':\n",
    "                dataframe = dataframe[dataframe['date'] <= value]\n",
    "            # categorical variables\n",
    "            else:\n",
    "                dataframe = dataframe[dataframe[key] == value]\n",
    "\n",
    "    return dict({'dataframe': dataframe, 'filters': dict(kwargs.items())})\n",
    "\n",
    "\n",
    "def graph(dataframe_and_filters):\n",
    "\n",
    "    \"\"\"\n",
    "    Plots price vs. date using filtered dataframe \n",
    "    Takes dictionary with keys 'dataframe' and 'filters' output by filter_by()\n",
    "    \n",
    "    \"\"\"\n",
    "    \n",
    "    dataframe = dataframe_and_filters['dataframe'] \n",
    "    filters = dataframe_and_filters['filters'] \n",
    "    \n",
    "    fig, ax = plt.subplots(1, 1)\n",
    "    fig.set_figheight(10)\n",
    "    fig.set_figwidth(10)\n",
    "    \n",
    "    # moving price average\n",
    "    dataframe['moving_average_price'] = dataframe['price'].rolling(window=100).mean()\n",
    "    \n",
    "    ax.xaxis.set_major_locator(MonthLocator(bymonth=1))\n",
    "    ax.tick_params(axis='x', labelrotation=30)\n",
    "    \n",
    "    ax.set_xlabel('date')\n",
    "    ax.set_title(f'Price vs. date for properties filtered by: \\n{[(key, value) for (key, value) in filters.items()]}')\n",
    "    ax.set_ylabel('price / £')\n",
    "    \n",
    "    ax.scatter(dataframe['date'], dataframe['price'], alpha=0.1, label='sale prices')\n",
    "    ax.plot(dataframe['date'], dataframe['moving_average_price'], label='100-transaction moving average sale price')\n",
    "    ax.legend()"
   ]
  },
  {
   "cell_type": "code",
   "execution_count": 20,
   "id": "a3968dc1",
   "metadata": {},
   "outputs": [
    {
     "data": {
      "image/png": "[encoded data removed]",
      "text/plain": [
       "<Figure size 720x720 with 1 Axes>"
      ]
     },
     "metadata": {
      "needs_background": "light"
     },
     "output_type": "display_data"
    }
   ],
   "source": [
    "df_ = filter_by(dataframe=df,\n",
    "                min_date='01-01-2000',\n",
    "                max_price=500000,\n",
    "                postcode_area='LS',\n",
    "                postcode_district='13',\n",
    "                property_type='semi'\n",
    "               )\n",
    "\n",
    "graph(df_)"
   ]
  },
  {
   "cell_type": "markdown",
   "id": "cbd3bc06",
   "metadata": {},
   "source": [
    "# 6. Did certain types of properties undergo larger price changes than others during the pandemic?"
   ]
  },
  {
   "cell_type": "markdown",
   "id": "47a24f7b",
   "metadata": {},
   "source": [
    "I had a hunch that certain types of properties had increased in price more than others over the period of summer 2020 to summer 2022. From browsing Zoopla, my hunch was that 3-bed semis in \"average\" areas like Middleton or Bramley tended to sell at ~£130,000 in summer 2020, and seemed to climb to  around ~£180,000 in summer 2022. Whereas detached 3-beds in nicer places like New Farnley seemed to be around ~£220,000 in summer 2020, and didn't seem to move much in price by summer 2022.\n",
    "\n",
    "A rigorous causal inference analysis would be needed to infer anything safely, but I nonetheless speculated that any such *price-dependent* price changes might be because 3-bed semis in the £130k - £180k range are affordable to the median buyer. (I'm not talking about the reasons for the price rises in their own right. Those causes are well known: furlough savings; working-from-home-induced upsizing; etc.) The median salary in Leeds was about £35,900 in 2021 and lenders' limit tends to be about four times income, meaning a lending limit of somewhere around £145,000. If you're looking for a 3-bed semi in Middleton, you're probably a first-time or second-time buyer, so you probably don't have a huge deposit or existing equity. Perhaps demand was therefore high in this lower £130,000 - £180,000 range because lots of people could afford it, but less so around £220,000 because it's getting too expensive for the median buyer.\n",
    "\n",
    "Pure speculation based on a trivial sample size is obviously useless, but it's interesting enough to me to do some rough statistical analysis to see if any obvious signals emerge."
   ]
  },
  {
   "cell_type": "markdown",
   "id": "ac1dd355",
   "metadata": {},
   "source": [
    "Psychologically, I think the pandemic really started in March 2020 when lockdowns and the furlough scheme started, so let's pick 1st March 2020 as the start date for the analysis:"
   ]
  },
  {
   "cell_type": "code",
   "execution_count": 21,
   "id": "aaca3978",
   "metadata": {},
   "outputs": [],
   "source": [
    "df_ = filter_by(dataframe=df, min_date='01-03-2020')['dataframe']"
   ]
  },
  {
   "cell_type": "markdown",
   "id": "f8cd6ace",
   "metadata": {},
   "source": [
    "Choose a meaningful set of parameters by which to define the groupings"
   ]
  },
  {
   "cell_type": "code",
   "execution_count": 22,
   "id": "a94d1b86",
   "metadata": {},
   "outputs": [],
   "source": [
    "# choose meaningful, sensible parameters by which to put properties into groups\n",
    "# (example group: semi-detached newbuild freehold houses in LS6)\n",
    "grouping = ['property_type', 'newbuild', 'tenure', 'postcode_area', 'postcode_district']#, 'postcode_sector']\n",
    "#grouping = ['property_type', 'newbuild', 'tenure', 'postcode']\n",
    "\n",
    "# self-join on the specified columns simultaneously to get all pairwise comparisons within the groups\n",
    "df_ = df_.merge(df_, on=grouping)"
   ]
  },
  {
   "cell_type": "code",
   "execution_count": 23,
   "id": "ce512f7d",
   "metadata": {},
   "outputs": [
    {
     "name": "stderr",
     "output_type": "stream",
     "text": [
      "/opt/conda/lib/python3.7/site-packages/ipykernel_launcher.py:17: FutureWarning: casting timedelta64[ns] values to int64 with .astype(...) is deprecated and will raise in a future version. Use .view(...) instead.\n"
     ]
    }
   ],
   "source": [
    "# make column names more intuitive\n",
    "df_.rename(columns={'date_x': 'date_final',\n",
    "                    'date_y': 'date_init',\n",
    "                    'price_y': 'price_init',\n",
    "                    'price_x': 'price_final',\n",
    "                   },\n",
    "           inplace=True)\n",
    "\n",
    "# discard redundant pairings and self-pairings (i.e. take only upper triangular elements of pairing matrix)\n",
    "df_ = df_[df_['date_final'] > df_['date_init']]\n",
    "\n",
    "# calculate price differences between transaction pairings\n",
    "df_['price_diff'] = df_['price_final'] - df_['price_init']\n",
    "\n",
    "# calculate date differences and convert time difference from nanoseconds to days\n",
    "df_['date_diff'] = df_['date_final'] - df_['date_init']\n",
    "df_['date_diff'] = df_['date_diff'].astype(int) // (86400*10**9)"
   ]
  },
  {
   "cell_type": "markdown",
   "id": "479c3361",
   "metadata": {},
   "source": [
    "To get meaningful handle on price changes across different timeframes, it's necessary to normalise by the absolute price and the time period over which said price changes occurred:"
   ]
  },
  {
   "cell_type": "code",
   "execution_count": 24,
   "id": "52cb2f98",
   "metadata": {},
   "outputs": [],
   "source": [
    "df_['percent_price_change_per_day'] = (df_['price_diff'] / df_['price_init']) / (df_['date_diff'])"
   ]
  },
  {
   "cell_type": "code",
   "execution_count": 25,
   "id": "4f22fe2f",
   "metadata": {},
   "outputs": [
    {
     "data": {
      "text/html": [
       "<div>\n",
       "<style scoped>\n",
       "    .dataframe tbody tr th:only-of-type {\n",
       "        vertical-align: middle;\n",
       "    }\n",
       "\n",
       "    .dataframe tbody tr th {\n",
       "        vertical-align: top;\n",
       "    }\n",
       "\n",
       "    .dataframe thead th {\n",
       "        text-align: right;\n",
       "    }\n",
       "</style>\n",
       "<table border=\"1\" class=\"dataframe\">\n",
       "  <thead>\n",
       "    <tr style=\"text-align: right;\">\n",
       "      <th></th>\n",
       "      <th>property_type</th>\n",
       "      <th>newbuild</th>\n",
       "      <th>tenure</th>\n",
       "      <th>postcode_area</th>\n",
       "      <th>postcode_district</th>\n",
       "      <th>paon_x</th>\n",
       "      <th>paon_y</th>\n",
       "      <th>saon_x</th>\n",
       "      <th>saon_y</th>\n",
       "      <th>price_diff</th>\n",
       "      <th>date_diff</th>\n",
       "      <th>date_final</th>\n",
       "      <th>date_init</th>\n",
       "      <th>price_init</th>\n",
       "      <th>price_final</th>\n",
       "      <th>percent_price_change_per_day</th>\n",
       "      <th>grouping</th>\n",
       "    </tr>\n",
       "  </thead>\n",
       "  <tbody>\n",
       "    <tr>\n",
       "      <th>782</th>\n",
       "      <td>detached</td>\n",
       "      <td>oldbuild</td>\n",
       "      <td>freehold</td>\n",
       "      <td>LS</td>\n",
       "      <td>25</td>\n",
       "      <td>AVENUE HOUSE</td>\n",
       "      <td>17</td>\n",
       "      <td></td>\n",
       "      <td></td>\n",
       "      <td>183000</td>\n",
       "      <td>5</td>\n",
       "      <td>2020-01-08</td>\n",
       "      <td>2020-01-03</td>\n",
       "      <td>492000</td>\n",
       "      <td>675000</td>\n",
       "      <td>0.074390</td>\n",
       "      <td>detached-oldbuild-freehold-LS25</td>\n",
       "    </tr>\n",
       "    <tr>\n",
       "      <th>783</th>\n",
       "      <td>detached</td>\n",
       "      <td>oldbuild</td>\n",
       "      <td>freehold</td>\n",
       "      <td>LS</td>\n",
       "      <td>25</td>\n",
       "      <td>AVENUE HOUSE</td>\n",
       "      <td>11</td>\n",
       "      <td></td>\n",
       "      <td></td>\n",
       "      <td>355000</td>\n",
       "      <td>5</td>\n",
       "      <td>2020-01-08</td>\n",
       "      <td>2020-01-03</td>\n",
       "      <td>320000</td>\n",
       "      <td>675000</td>\n",
       "      <td>0.221875</td>\n",
       "      <td>detached-oldbuild-freehold-LS25</td>\n",
       "    </tr>\n",
       "    <tr>\n",
       "      <th>1173</th>\n",
       "      <td>detached</td>\n",
       "      <td>oldbuild</td>\n",
       "      <td>freehold</td>\n",
       "      <td>LS</td>\n",
       "      <td>25</td>\n",
       "      <td>20</td>\n",
       "      <td>17</td>\n",
       "      <td></td>\n",
       "      <td></td>\n",
       "      <td>-117000</td>\n",
       "      <td>7</td>\n",
       "      <td>2020-01-10</td>\n",
       "      <td>2020-01-03</td>\n",
       "      <td>492000</td>\n",
       "      <td>375000</td>\n",
       "      <td>-0.033972</td>\n",
       "      <td>detached-oldbuild-freehold-LS25</td>\n",
       "    </tr>\n",
       "    <tr>\n",
       "      <th>1174</th>\n",
       "      <td>detached</td>\n",
       "      <td>oldbuild</td>\n",
       "      <td>freehold</td>\n",
       "      <td>LS</td>\n",
       "      <td>25</td>\n",
       "      <td>20</td>\n",
       "      <td>11</td>\n",
       "      <td></td>\n",
       "      <td></td>\n",
       "      <td>55000</td>\n",
       "      <td>7</td>\n",
       "      <td>2020-01-10</td>\n",
       "      <td>2020-01-03</td>\n",
       "      <td>320000</td>\n",
       "      <td>375000</td>\n",
       "      <td>0.024554</td>\n",
       "      <td>detached-oldbuild-freehold-LS25</td>\n",
       "    </tr>\n",
       "    <tr>\n",
       "      <th>1175</th>\n",
       "      <td>detached</td>\n",
       "      <td>oldbuild</td>\n",
       "      <td>freehold</td>\n",
       "      <td>LS</td>\n",
       "      <td>25</td>\n",
       "      <td>20</td>\n",
       "      <td>AVENUE HOUSE</td>\n",
       "      <td></td>\n",
       "      <td></td>\n",
       "      <td>-300000</td>\n",
       "      <td>2</td>\n",
       "      <td>2020-01-10</td>\n",
       "      <td>2020-01-08</td>\n",
       "      <td>675000</td>\n",
       "      <td>375000</td>\n",
       "      <td>-0.222222</td>\n",
       "      <td>detached-oldbuild-freehold-LS25</td>\n",
       "    </tr>\n",
       "    <tr>\n",
       "      <th>...</th>\n",
       "      <td>...</td>\n",
       "      <td>...</td>\n",
       "      <td>...</td>\n",
       "      <td>...</td>\n",
       "      <td>...</td>\n",
       "      <td>...</td>\n",
       "      <td>...</td>\n",
       "      <td>...</td>\n",
       "      <td>...</td>\n",
       "      <td>...</td>\n",
       "      <td>...</td>\n",
       "      <td>...</td>\n",
       "      <td>...</td>\n",
       "      <td>...</td>\n",
       "      <td>...</td>\n",
       "      <td>...</td>\n",
       "      <td>...</td>\n",
       "    </tr>\n",
       "    <tr>\n",
       "      <th>7349434</th>\n",
       "      <td>flat</td>\n",
       "      <td>newbuild</td>\n",
       "      <td>leasehold</td>\n",
       "      <td>LS</td>\n",
       "      <td>4</td>\n",
       "      <td>1</td>\n",
       "      <td>1</td>\n",
       "      <td>FLAT 16</td>\n",
       "      <td>FLAT 45</td>\n",
       "      <td>17000</td>\n",
       "      <td>21</td>\n",
       "      <td>2021-04-19</td>\n",
       "      <td>2021-03-29</td>\n",
       "      <td>95000</td>\n",
       "      <td>112000</td>\n",
       "      <td>0.008521</td>\n",
       "      <td>flat-newbuild-leasehold-LS4</td>\n",
       "    </tr>\n",
       "    <tr>\n",
       "      <th>7349435</th>\n",
       "      <td>flat</td>\n",
       "      <td>newbuild</td>\n",
       "      <td>leasehold</td>\n",
       "      <td>LS</td>\n",
       "      <td>4</td>\n",
       "      <td>1</td>\n",
       "      <td>1</td>\n",
       "      <td>FLAT 16</td>\n",
       "      <td>FLAT 12</td>\n",
       "      <td>-24000</td>\n",
       "      <td>19</td>\n",
       "      <td>2021-04-19</td>\n",
       "      <td>2021-03-31</td>\n",
       "      <td>136000</td>\n",
       "      <td>112000</td>\n",
       "      <td>-0.009288</td>\n",
       "      <td>flat-newbuild-leasehold-LS4</td>\n",
       "    </tr>\n",
       "    <tr>\n",
       "      <th>7349436</th>\n",
       "      <td>flat</td>\n",
       "      <td>newbuild</td>\n",
       "      <td>leasehold</td>\n",
       "      <td>LS</td>\n",
       "      <td>4</td>\n",
       "      <td>1</td>\n",
       "      <td>1</td>\n",
       "      <td>FLAT 16</td>\n",
       "      <td>FLAT 34</td>\n",
       "      <td>-4000</td>\n",
       "      <td>5</td>\n",
       "      <td>2021-04-19</td>\n",
       "      <td>2021-04-14</td>\n",
       "      <td>116000</td>\n",
       "      <td>112000</td>\n",
       "      <td>-0.006897</td>\n",
       "      <td>flat-newbuild-leasehold-LS4</td>\n",
       "    </tr>\n",
       "    <tr>\n",
       "      <th>7349444</th>\n",
       "      <td>other</td>\n",
       "      <td>newbuild</td>\n",
       "      <td>leasehold</td>\n",
       "      <td>LS</td>\n",
       "      <td>7</td>\n",
       "      <td>AUSTIN HALL</td>\n",
       "      <td>AUSTIN HALL</td>\n",
       "      <td>UNIT 713</td>\n",
       "      <td>UNIT 514</td>\n",
       "      <td>0</td>\n",
       "      <td>1</td>\n",
       "      <td>2021-05-12</td>\n",
       "      <td>2021-05-11</td>\n",
       "      <td>77000</td>\n",
       "      <td>77000</td>\n",
       "      <td>0.000000</td>\n",
       "      <td>other-newbuild-leasehold-LS7</td>\n",
       "    </tr>\n",
       "    <tr>\n",
       "      <th>7349452</th>\n",
       "      <td>semi</td>\n",
       "      <td>oldbuild</td>\n",
       "      <td>leasehold</td>\n",
       "      <td>LS</td>\n",
       "      <td>20</td>\n",
       "      <td>2</td>\n",
       "      <td>23</td>\n",
       "      <td></td>\n",
       "      <td></td>\n",
       "      <td>124000</td>\n",
       "      <td>28</td>\n",
       "      <td>2021-08-27</td>\n",
       "      <td>2021-07-30</td>\n",
       "      <td>145000</td>\n",
       "      <td>269000</td>\n",
       "      <td>0.030542</td>\n",
       "      <td>semi-oldbuild-leasehold-LS20</td>\n",
       "    </tr>\n",
       "  </tbody>\n",
       "</table>\n",
       "<p>3638925 rows × 17 columns</p>\n",
       "</div>"
      ],
      "text/plain": [
       "        property_type  newbuild     tenure postcode_area postcode_district        paon_x        paon_y    saon_x    saon_y  price_diff  date_diff date_final  date_init  price_init  price_final  percent_price_change_per_day                         grouping\n",
       "782          detached  oldbuild   freehold            LS                25  AVENUE HOUSE            17                          183000          5 2020-01-08 2020-01-03      492000       675000                      0.074390  detached-oldbuild-freehold-LS25\n",
       "783          detached  oldbuild   freehold            LS                25  AVENUE HOUSE            11                          355000          5 2020-01-08 2020-01-03      320000       675000                      0.221875  detached-oldbuild-freehold-LS25\n",
       "1173         detached  oldbuild   freehold            LS                25            20            17                         -117000          7 2020-01-10 2020-01-03      492000       375000                     -0.033972  detached-oldbuild-freehold-LS25\n",
       "1174         detached  oldbuild   freehold            LS                25            20            11                           55000          7 2020-01-10 2020-01-03      320000       375000                      0.024554  detached-oldbuild-freehold-LS25\n",
       "1175         detached  oldbuild   freehold            LS                25            20  AVENUE HOUSE                         -300000          2 2020-01-10 2020-01-08      675000       375000                     -0.222222  detached-oldbuild-freehold-LS25\n",
       "...               ...       ...        ...           ...               ...           ...           ...       ...       ...         ...        ...        ...        ...         ...          ...                           ...                              ...\n",
       "7349434          flat  newbuild  leasehold            LS                 4             1             1   FLAT 16   FLAT 45       17000         21 2021-04-19 2021-03-29       95000       112000                      0.008521      flat-newbuild-leasehold-LS4\n",
       "7349435          flat  newbuild  leasehold            LS                 4             1             1   FLAT 16   FLAT 12      -24000         19 2021-04-19 2021-03-31      136000       112000                     -0.009288      flat-newbuild-leasehold-LS4\n",
       "7349436          flat  newbuild  leasehold            LS                 4             1             1   FLAT 16   FLAT 34       -4000          5 2021-04-19 2021-04-14      116000       112000                     -0.006897      flat-newbuild-leasehold-LS4\n",
       "7349444         other  newbuild  leasehold            LS                 7   AUSTIN HALL   AUSTIN HALL  UNIT 713  UNIT 514           0          1 2021-05-12 2021-05-11       77000        77000                      0.000000     other-newbuild-leasehold-LS7\n",
       "7349452          semi  oldbuild  leasehold            LS                20             2            23                          124000         28 2021-08-27 2021-07-30      145000       269000                      0.030542     semi-oldbuild-leasehold-LS20\n",
       "\n",
       "[3638925 rows x 17 columns]"
      ]
     },
     "execution_count": 25,
     "metadata": {},
     "output_type": "execute_result"
    }
   ],
   "source": [
    "# discard superfluous columns\n",
    "columns_to_keep = grouping + ['paon_x', 'paon_y', 'saon_x', 'saon_y', 'price_diff', 'date_diff', 'date_final', 'date_init', 'price_init', 'price_final', 'percent_price_change_per_day']\n",
    "df_ = df_[columns_to_keep]\n",
    "\n",
    "# make grouping column for convenience\n",
    "df_['grouping'] = df_['property_type'] + '-' + df_['newbuild'] + '-' + df_['tenure'] + '-' + df_['postcode_area'] + df_['postcode_district']# + '-' + df_['postcode_sector']\n",
    "#df_['grouping'] = df_['property_type'] + '-' + df_['newbuild'] + '-' + df_['tenure'] + '-' + df_['postcode']\n",
    "\n",
    "# inspect dataframe\n",
    "df_"
   ]
  },
  {
   "cell_type": "markdown",
   "id": "68d335da",
   "metadata": {},
   "source": [
    "## Create a set of price windows to include as a parameter in a grid search:"
   ]
  },
  {
   "cell_type": "code",
   "execution_count": 235,
   "id": "b245dde4",
   "metadata": {},
   "outputs": [],
   "source": [
    "def get_price_windows(minprice, maxprice, minwidth=None, maxwidth=None, step_size=10000):\n",
    "    \n",
    "    price_grid = list(range(minprice, maxprice, step_size))\n",
    "       \n",
    "    # find all possible contiguous subarrays\n",
    "    contiguous_subarrays = [price_grid[i:i+j] for i in range(0,len(price_grid)) for j in range(1,len(price_grid)-i+1)]\n",
    "\n",
    "    # remove those subarrays only consisting of one elementz\n",
    "    for element in contiguous_subarrays:\n",
    "        if len(element) < 2:\n",
    "            contiguous_subarrays.remove(element)\n",
    "    \n",
    "    # remove all but the first (lowest) and last (largest) values to get the price ranges\n",
    "    price_windows = []\n",
    "    for element in contiguous_subarrays:\n",
    "        price_windows.append([element[0], element[-1]])\n",
    "    \n",
    "    # set minimum price window width if minwidth argument passed\n",
    "    if minwidth is not None:\n",
    "        price_windows = [i for i in price_windows if i[1]-i[0] >= minwidth]\n",
    "    \n",
    "    # set maximum price window width if maxwidth argument passed\n",
    "    if maxwidth is not None:\n",
    "        price_windows = [i for i in price_windows if i[1]-i[0] <= maxwidth]\n",
    "    \n",
    "    return price_windows\n",
    "\n",
    "price_windows = get_price_windows(minprice=100000, maxprice=250000, minwidth=30000, maxwidth=100000)"
   ]
  },
  {
   "cell_type": "code",
   "execution_count": 237,
   "id": "11863303",
   "metadata": {},
   "outputs": [
    {
     "data": {
      "text/plain": [
       "68"
      ]
     },
     "execution_count": 237,
     "metadata": {},
     "output_type": "execute_result"
    }
   ],
   "source": [
    "len(price_windows)"
   ]
  },
  {
   "cell_type": "code",
   "execution_count": 212,
   "id": "45888ded",
   "metadata": {},
   "outputs": [
    {
     "data": {
      "text/plain": [
       "[[50000, 70000],\n",
       " [50000, 90000],\n",
       " [50000, 100000],\n",
       " [50000, 110000],\n",
       " [50000, 120000],\n",
       " [50000, 130000],\n",
       " [50000, 140000],\n",
       " [50000, 150000],\n",
       " [50000, 160000],\n",
       " [50000, 170000],\n",
       " [50000, 180000],\n",
       " [50000, 190000],\n",
       " [50000, 200000],\n",
       " [50000, 210000],\n",
       " [50000, 220000],\n",
       " [50000, 230000],\n",
       " [50000, 240000],\n",
       " [50000, 250000]]"
      ]
     },
     "execution_count": 212,
     "metadata": {},
     "output_type": "execute_result"
    }
   ],
   "source": [
    "for price_window in price_windows:\n",
    "    if price_window[1] - price_window[0] < 40000:        \n",
    "        price_windows.remove(price_window)\n",
    "    else:\n",
    "        pass\n",
    "        \n",
    "price_windows"
   ]
  },
  {
   "cell_type": "code",
   "execution_count": 223,
   "id": "87a4e2aa",
   "metadata": {},
   "outputs": [],
   "source": [
    "res = [i for i in price_windows if i[1]-i[0] >= 40000]"
   ]
  },
  {
   "cell_type": "code",
   "execution_count": 224,
   "id": "cb42792e",
   "metadata": {},
   "outputs": [
    {
     "data": {
      "text/plain": [
       "[[50000, 90000],\n",
       " [50000, 100000],\n",
       " [50000, 110000],\n",
       " [50000, 120000],\n",
       " [50000, 130000],\n",
       " [50000, 140000],\n",
       " [50000, 150000],\n",
       " [50000, 160000],\n",
       " [50000, 170000],\n",
       " [50000, 180000],\n",
       " [50000, 190000],\n",
       " [50000, 200000],\n",
       " [50000, 210000],\n",
       " [50000, 220000],\n",
       " [50000, 230000],\n",
       " [50000, 240000],\n",
       " [50000, 250000]]"
      ]
     },
     "execution_count": 224,
     "metadata": {},
     "output_type": "execute_result"
    }
   ],
   "source": [
    "res"
   ]
  },
  {
   "cell_type": "code",
   "execution_count": 52,
   "id": "d967b45c",
   "metadata": {},
   "outputs": [],
   "source": [
    "from itertools import combinations\n",
    "\n",
    "group_pairings = list(combinations(df_['grouping'].unique(), r=2))"
   ]
  },
  {
   "cell_type": "code",
   "execution_count": 45,
   "id": "c37ca930",
   "metadata": {},
   "outputs": [
    {
     "data": {
      "text/plain": [
       "22791"
      ]
     },
     "execution_count": 45,
     "metadata": {},
     "output_type": "execute_result"
    }
   ],
   "source": [
    "len(group_pairings)"
   ]
  },
  {
   "cell_type": "code",
   "execution_count": 73,
   "id": "1db67a05",
   "metadata": {},
   "outputs": [
    {
     "data": {
      "text/plain": [
       "[[50000, 70000],\n",
       " [50000, 90000],\n",
       " [50000, 110000],\n",
       " [50000, 120000],\n",
       " [50000, 130000],\n",
       " [50000, 140000],\n",
       " [50000, 150000],\n",
       " [50000, 160000],\n",
       " [50000, 170000],\n",
       " [50000, 180000],\n",
       " [50000, 190000],\n",
       " [50000, 200000],\n",
       " [50000, 210000],\n",
       " [50000, 220000],\n",
       " [50000, 230000],\n",
       " [50000, 240000],\n",
       " [50000, 250000],\n",
       " [50000, 260000],\n",
       " [50000, 270000],\n",
       " [50000, 280000],\n",
       " [50000, 290000],\n",
       " [60000, 80000],\n",
       " [60000, 100000],\n",
       " [60000, 120000],\n",
       " [60000, 130000],\n",
       " [60000, 140000],\n",
       " [60000, 150000],\n",
       " [60000, 160000],\n",
       " [60000, 170000],\n",
       " [60000, 180000],\n",
       " [60000, 190000],\n",
       " [60000, 200000],\n",
       " [60000, 210000],\n",
       " [60000, 220000],\n",
       " [60000, 230000],\n",
       " [60000, 240000],\n",
       " [60000, 250000],\n",
       " [60000, 260000],\n",
       " [60000, 270000],\n",
       " [60000, 280000],\n",
       " [60000, 290000],\n",
       " [70000, 90000],\n",
       " [70000, 110000],\n",
       " [70000, 130000],\n",
       " [70000, 140000],\n",
       " [70000, 150000],\n",
       " [70000, 160000],\n",
       " [70000, 170000],\n",
       " [70000, 180000],\n",
       " [70000, 190000],\n",
       " [70000, 200000],\n",
       " [70000, 210000],\n",
       " [70000, 220000],\n",
       " [70000, 230000],\n",
       " [70000, 240000],\n",
       " [70000, 250000],\n",
       " [70000, 260000],\n",
       " [70000, 270000],\n",
       " [70000, 280000],\n",
       " [70000, 290000],\n",
       " [80000, 100000],\n",
       " [80000, 120000],\n",
       " [80000, 140000],\n",
       " [80000, 150000],\n",
       " [80000, 160000],\n",
       " [80000, 170000],\n",
       " [80000, 180000],\n",
       " [80000, 190000],\n",
       " [80000, 200000],\n",
       " [80000, 210000],\n",
       " [80000, 220000],\n",
       " [80000, 230000],\n",
       " [80000, 240000],\n",
       " [80000, 250000],\n",
       " [80000, 260000],\n",
       " [80000, 270000],\n",
       " [80000, 280000],\n",
       " [80000, 290000],\n",
       " [90000, 110000],\n",
       " [90000, 130000],\n",
       " [90000, 150000],\n",
       " [90000, 160000],\n",
       " [90000, 170000],\n",
       " [90000, 180000],\n",
       " [90000, 190000],\n",
       " [90000, 200000],\n",
       " [90000, 210000],\n",
       " [90000, 220000],\n",
       " [90000, 230000],\n",
       " [90000, 240000],\n",
       " [90000, 250000],\n",
       " [90000, 260000],\n",
       " [90000, 270000],\n",
       " [90000, 280000],\n",
       " [90000, 290000],\n",
       " [100000, 120000],\n",
       " [100000, 140000],\n",
       " [100000, 160000],\n",
       " [100000, 170000],\n",
       " [100000, 180000],\n",
       " [100000, 190000],\n",
       " [100000, 200000],\n",
       " [100000, 210000],\n",
       " [100000, 220000],\n",
       " [100000, 230000],\n",
       " [100000, 240000],\n",
       " [100000, 250000],\n",
       " [100000, 260000],\n",
       " [100000, 270000],\n",
       " [100000, 280000],\n",
       " [100000, 290000],\n",
       " [110000, 130000],\n",
       " [110000, 150000],\n",
       " [110000, 170000],\n",
       " [110000, 180000],\n",
       " [110000, 190000],\n",
       " [110000, 200000],\n",
       " [110000, 210000],\n",
       " [110000, 220000],\n",
       " [110000, 230000],\n",
       " [110000, 240000],\n",
       " [110000, 250000],\n",
       " [110000, 260000],\n",
       " [110000, 270000],\n",
       " [110000, 280000],\n",
       " [110000, 290000],\n",
       " [120000, 140000],\n",
       " [120000, 160000],\n",
       " [120000, 180000],\n",
       " [120000, 190000],\n",
       " [120000, 200000],\n",
       " [120000, 210000],\n",
       " [120000, 220000],\n",
       " [120000, 230000],\n",
       " [120000, 240000],\n",
       " [120000, 250000],\n",
       " [120000, 260000],\n",
       " [120000, 270000],\n",
       " [120000, 280000],\n",
       " [120000, 290000],\n",
       " [130000, 150000],\n",
       " [130000, 170000],\n",
       " [130000, 190000],\n",
       " [130000, 200000],\n",
       " [130000, 210000],\n",
       " [130000, 220000],\n",
       " [130000, 230000],\n",
       " [130000, 240000],\n",
       " [130000, 250000],\n",
       " [130000, 260000],\n",
       " [130000, 270000],\n",
       " [130000, 280000],\n",
       " [130000, 290000],\n",
       " [140000, 160000],\n",
       " [140000, 180000],\n",
       " [140000, 200000],\n",
       " [140000, 210000],\n",
       " [140000, 220000],\n",
       " [140000, 230000],\n",
       " [140000, 240000],\n",
       " [140000, 250000],\n",
       " [140000, 260000],\n",
       " [140000, 270000],\n",
       " [140000, 280000],\n",
       " [140000, 290000],\n",
       " [150000, 170000],\n",
       " [150000, 190000],\n",
       " [150000, 210000],\n",
       " [150000, 220000],\n",
       " [150000, 230000],\n",
       " [150000, 240000],\n",
       " [150000, 250000],\n",
       " [150000, 260000],\n",
       " [150000, 270000],\n",
       " [150000, 280000],\n",
       " [150000, 290000],\n",
       " [160000, 180000],\n",
       " [160000, 200000],\n",
       " [160000, 220000],\n",
       " [160000, 230000],\n",
       " [160000, 240000],\n",
       " [160000, 250000],\n",
       " [160000, 260000],\n",
       " [160000, 270000],\n",
       " [160000, 280000],\n",
       " [160000, 290000],\n",
       " [170000, 190000],\n",
       " [170000, 210000],\n",
       " [170000, 230000],\n",
       " [170000, 240000],\n",
       " [170000, 250000],\n",
       " [170000, 260000],\n",
       " [170000, 270000],\n",
       " [170000, 280000],\n",
       " [170000, 290000],\n",
       " [180000, 200000],\n",
       " [180000, 220000],\n",
       " [180000, 240000],\n",
       " [180000, 250000],\n",
       " [180000, 260000],\n",
       " [180000, 270000],\n",
       " [180000, 280000],\n",
       " [180000, 290000],\n",
       " [190000, 210000],\n",
       " [190000, 230000],\n",
       " [190000, 250000],\n",
       " [190000, 260000],\n",
       " [190000, 270000],\n",
       " [190000, 280000],\n",
       " [190000, 290000],\n",
       " [200000, 220000],\n",
       " [200000, 240000],\n",
       " [200000, 260000],\n",
       " [200000, 270000],\n",
       " [200000, 280000],\n",
       " [200000, 290000],\n",
       " [210000, 230000],\n",
       " [210000, 250000],\n",
       " [210000, 270000],\n",
       " [210000, 280000],\n",
       " [210000, 290000],\n",
       " [220000, 240000],\n",
       " [220000, 260000],\n",
       " [220000, 280000],\n",
       " [220000, 290000],\n",
       " [230000, 250000],\n",
       " [230000, 270000],\n",
       " [230000, 290000],\n",
       " [240000, 260000],\n",
       " [240000, 280000],\n",
       " [250000, 260000],\n",
       " [250000, 280000],\n",
       " [260000, 270000],\n",
       " [260000, 290000],\n",
       " [270000, 290000]]"
      ]
     },
     "execution_count": 73,
     "metadata": {},
     "output_type": "execute_result"
    }
   ],
   "source": [
    "price_windows"
   ]
  },
  {
   "cell_type": "code",
   "execution_count": 38,
   "id": "041ff2cc",
   "metadata": {},
   "outputs": [
    {
     "data": {
      "text/plain": [
       "('detached-oldbuild-freehold-LS25', 'terraced-oldbuild-freehold-LS13')"
      ]
     },
     "execution_count": 38,
     "metadata": {},
     "output_type": "execute_result"
    }
   ],
   "source": [
    "group_pairings[10]"
   ]
  },
  {
   "cell_type": "code",
   "execution_count": 29,
   "id": "e5a41f1b",
   "metadata": {},
   "outputs": [
    {
     "data": {
      "image/png": "[encoded data removed]",
      "text/plain": [
       "<Figure size 432x288 with 1 Axes>"
      ]
     },
     "metadata": {
      "needs_background": "light"
     },
     "output_type": "display_data"
    }
   ],
   "source": [
    "plt.hist(df_[df_['grouping'] == 'detached-oldbuild-freehold-LS25']['percent_price_change_per_day'],  bins=np.arange(-0.05, 0.05, 0.001));"
   ]
  },
  {
   "cell_type": "code",
   "execution_count": 30,
   "id": "a0482734",
   "metadata": {},
   "outputs": [
    {
     "data": {
      "image/png": "[encoded data removed]",
      "text/plain": [
       "<Figure size 432x288 with 1 Axes>"
      ]
     },
     "metadata": {
      "needs_background": "light"
     },
     "output_type": "display_data"
    }
   ],
   "source": [
    "plt.hist(df_[df_['grouping'] == 'flat-newbuild-leasehold-LS4']['percent_price_change_per_day'],  bins=np.arange(-0.05, 0.05, 0.001));"
   ]
  },
  {
   "cell_type": "code",
   "execution_count": null,
   "id": "16ddd3d4",
   "metadata": {},
   "outputs": [],
   "source": []
  },
  {
   "cell_type": "code",
   "execution_count": null,
   "id": "dff4bdb9",
   "metadata": {},
   "outputs": [],
   "source": []
  },
  {
   "cell_type": "code",
   "execution_count": null,
   "id": "33fbd46c",
   "metadata": {},
   "outputs": [],
   "source": []
  },
  {
   "cell_type": "code",
   "execution_count": null,
   "id": "c5e87ddd",
   "metadata": {},
   "outputs": [],
   "source": []
  },
  {
   "cell_type": "code",
   "execution_count": null,
   "id": "d4d1d54c",
   "metadata": {},
   "outputs": [],
   "source": []
  },
  {
   "cell_type": "code",
   "execution_count": null,
   "id": "e9813a39",
   "metadata": {},
   "outputs": [],
   "source": []
  },
  {
   "cell_type": "code",
   "execution_count": null,
   "id": "e15d4ad5",
   "metadata": {},
   "outputs": [],
   "source": []
  },
  {
   "cell_type": "code",
   "execution_count": null,
   "id": "b538fa21",
   "metadata": {},
   "outputs": [],
   "source": []
  },
  {
   "cell_type": "code",
   "execution_count": null,
   "id": "cdb7c881",
   "metadata": {},
   "outputs": [],
   "source": [
    "group_pairs_df = pd.DataFrame(columns=['group_x',\n",
    "                                       'group_y', 'hyp_test', 'pvalue', 'group_x_mean_percent_price_change_per_day', 'group_y_mean_percent_price_change_per_day', 'meanprice_x', 'meanprice_y'])\n",
    "\n",
    "from datetime import datetime\n",
    "\n",
    "from scipy import stats\n",
    "\n",
    "print(datetime.now().strftime(\"%H:%M:%S\"))\n",
    "product=1\n",
    "counter=0\n",
    "\n",
    "for group_pairing in group_pairings[:10]:\n",
    "    #print(group_pairing)\n",
    "\n",
    "    vals0 = df_[df_['grouping'] == group_pairing[0]]['percent_price_change_per_day'].values\n",
    "    vals1 = df_[df_['grouping'] == group_pairing[1]]['percent_price_change_per_day'].values\n",
    "\n",
    "    \n",
    "    meanprice0 = df_[df_['grouping'] == group_pairing[0]]['price_final'].values.mean()\n",
    "    meanprice1 = df_[df_['grouping'] == group_pairing[1]]['price_final'].values.mean()\n",
    "    \n",
    "    pvalue = stats.mannwhitneyu(vals0, vals1).pvalue\n",
    "    \n",
    "        #print(group_pairing[0], group_pairing[1], stats.mannwhitneyu(vals0, vals1).pvalue)\n",
    "    \n",
    "    group_pairs_df.loc[len(group_pairs_df)] = [group_pairing[0],\n",
    "                                               group_pairing[1],\n",
    "                                               'mannwhitneyu',\n",
    "                                               float(pvalue),\n",
    "                                               vals0.mean(),\n",
    "                                               vals1.mean(),\n",
    "                                               meanprice0,\n",
    "                                               meanprice1\n",
    "                                               ]\n",
    "    \n",
    "    counter+=1\n",
    "    if counter % 10 == 0:\n",
    "        print(counter)\n",
    "        print(datetime.now().strftime(\"%H:%M:%S\"))\n",
    "     #product = product*len(df_[param].unique())\n",
    "    \n",
    "#print(product, 'unique combinations')"
   ]
  },
  {
   "cell_type": "code",
   "execution_count": null,
   "id": "febfef4a",
   "metadata": {},
   "outputs": [],
   "source": [
    "group_pairs_df"
   ]
  },
  {
   "cell_type": "code",
   "execution_count": null,
   "id": "8177954b",
   "metadata": {},
   "outputs": [],
   "source": [
    "\n",
    "\n",
    "\n",
    "\n",
    "\n",
    "\n",
    "\n",
    "\n",
    "\n",
    "\n",
    "\n",
    "\n"
   ]
  },
  {
   "cell_type": "code",
   "execution_count": null,
   "id": "4db1b456",
   "metadata": {},
   "outputs": [],
   "source": []
  },
  {
   "cell_type": "code",
   "execution_count": null,
   "id": "fcdfb87e",
   "metadata": {},
   "outputs": [],
   "source": []
  },
  {
   "cell_type": "code",
   "execution_count": null,
   "id": "2aab1445",
   "metadata": {},
   "outputs": [],
   "source": []
  },
  {
   "cell_type": "code",
   "execution_count": null,
   "id": "0f3a5269",
   "metadata": {},
   "outputs": [],
   "source": []
  },
  {
   "cell_type": "code",
   "execution_count": null,
   "id": "4b46d21d",
   "metadata": {},
   "outputs": [],
   "source": []
  },
  {
   "cell_type": "code",
   "execution_count": null,
   "id": "6ca120cb",
   "metadata": {},
   "outputs": [],
   "source": []
  },
  {
   "cell_type": "code",
   "execution_count": null,
   "id": "c7757294",
   "metadata": {},
   "outputs": [],
   "source": []
  },
  {
   "cell_type": "code",
   "execution_count": null,
   "id": "c72d2ce6",
   "metadata": {},
   "outputs": [],
   "source": []
  },
  {
   "cell_type": "code",
   "execution_count": null,
   "id": "3dcf3917",
   "metadata": {},
   "outputs": [],
   "source": []
  },
  {
   "cell_type": "code",
   "execution_count": null,
   "id": "650e17d3",
   "metadata": {},
   "outputs": [],
   "source": [
    "from matplotlib.dates import MonthLocator\n",
    "from matplotlib import pyplot as plt\n",
    "from matplotlib import cm\n",
    "from matplotlib.colors import ListedColormap, LinearSegmentedColormap\n",
    "import matplotlib as mpl\n",
    "\n",
    "#plt.figure(figsize=(20,20))\n",
    "\n",
    "fig, ax = plt.subplots(1, 1)\n",
    "fig.set_figheight(8)\n",
    "fig.set_figwidth(19)\n",
    "\n",
    "ax.tick_params(axis='x', labelrotation=90)\n",
    "\n",
    "y = df_['price_final'].values\n",
    "x = df_['date_final'].values\n",
    "\n",
    "rdylgn = cm.get_cmap('RdYlGn', 100)\n",
    "color = rdylgn(df_['percent_price_change_per_day'].values)\n",
    "\n",
    "#norm = mpl.colors.Normalize(vmin=-0.01, vmax=0.01)\n",
    "#cmap=cm.hot\n",
    "#m = cm.ScalarMappable(norm=norm, cmap=cmap)\n",
    "#print(m.to_rgba(x))\n",
    "\n",
    "#color = cm.hot(df_['pc_rise_rate_scaled'].values)\n",
    "\n",
    "ax.xaxis.set_major_locator(MonthLocator(bymonth=[1,2,3,4,5,6,7,8,9,10,11,12]))  #bymonth=1\n",
    "ax.scatter(x, y, c=color, sizes=[40], alpha=0.1)\n",
    "#ax.set_ylim([-0.01, 0.01])\n",
    "\n",
    "\n",
    "\"\"\"\n",
    "    Plots price vs. date using filtered dataframe \n",
    "    Takes dictionary with keys 'dataframe' and 'filters' output by filter_by()\n",
    "    \n",
    "    \n",
    "    dataframe = dataframe_and_filters['dataframe'] \n",
    "    filters = dataframe_and_filters['filters'] \n",
    "    \n",
    "    fig, ax = plt.subplots(1, 1)\n",
    "    fig.set_figheight(10)\n",
    "    fig.set_figwidth(10)\n",
    "    \n",
    "    # moving price average\n",
    "    dataframe['moving_average_price'] = dataframe['price'].rolling(window=100).mean()\n",
    "    \n",
    "    ax.xaxis.set_major_locator(MonthLocator(bymonth=1))\n",
    "    ax.tick_params(axis='x', labelrotation=30)\n",
    "    \n",
    "    ax.set_xlabel('date')\n",
    "    ax.set_title(f'Price vs. date for properties filtered by: \\n{[(key, value) for (key, value) in filters.items()]}')\n",
    "    ax.set_ylabel('price / £')\n",
    "    \n",
    "    ax.scatter(dataframe['date'], dataframe['price'], alpha=0.1, label='sale prices')\n",
    "    ax.plot(dataframe['date'], dataframe['moving_average_price'], label='100-transaction moving average sale price')\n",
    "    ax.legend()\n",
    "    \n",
    "\"\"\""
   ]
  },
  {
   "cell_type": "code",
   "execution_count": null,
   "id": "ec2552f9",
   "metadata": {},
   "outputs": [],
   "source": []
  },
  {
   "cell_type": "code",
   "execution_count": null,
   "id": "df420d72",
   "metadata": {},
   "outputs": [],
   "source": []
  },
  {
   "cell_type": "code",
   "execution_count": null,
   "id": "6fb48a79",
   "metadata": {},
   "outputs": [],
   "source": []
  },
  {
   "cell_type": "code",
   "execution_count": null,
   "id": "c0b0bc2b",
   "metadata": {},
   "outputs": [],
   "source": []
  },
  {
   "cell_type": "code",
   "execution_count": null,
   "id": "6ff3a66a",
   "metadata": {},
   "outputs": [],
   "source": []
  },
  {
   "cell_type": "code",
   "execution_count": null,
   "id": "ae8a2039",
   "metadata": {},
   "outputs": [],
   "source": []
  },
  {
   "cell_type": "code",
   "execution_count": null,
   "id": "08a385da",
   "metadata": {},
   "outputs": [],
   "source": []
  },
  {
   "cell_type": "code",
   "execution_count": null,
   "id": "6f89d386",
   "metadata": {},
   "outputs": [],
   "source": []
  },
  {
   "cell_type": "code",
   "execution_count": null,
   "id": "16e7d4a7",
   "metadata": {},
   "outputs": [],
   "source": []
  },
  {
   "cell_type": "code",
   "execution_count": null,
   "id": "fe7dc9b0",
   "metadata": {},
   "outputs": [],
   "source": []
  },
  {
   "cell_type": "code",
   "execution_count": null,
   "id": "6c45ba49",
   "metadata": {},
   "outputs": [],
   "source": []
  },
  {
   "cell_type": "code",
   "execution_count": null,
   "id": "e414362c",
   "metadata": {},
   "outputs": [],
   "source": []
  },
  {
   "cell_type": "code",
   "execution_count": null,
   "id": "451d24c6",
   "metadata": {},
   "outputs": [],
   "source": []
  },
  {
   "cell_type": "code",
   "execution_count": null,
   "id": "4126b707",
   "metadata": {},
   "outputs": [],
   "source": [
    "df_['pc_rise_rate_scaled'] = df_['pc_rise_rate'].apply(lambda x: ((x*100)))\n",
    "print(df_['pc_rise_rate_scaled'].max())\n",
    "print(df_['pc_rise_rate_scaled'].min())\n",
    "plt.hist(df_['pc_rise_rate_scaled'].values, bins=np.arange(-0.5, 0.5, 0.01))"
   ]
  },
  {
   "cell_type": "code",
   "execution_count": null,
   "id": "ec5a68e7",
   "metadata": {},
   "outputs": [],
   "source": [
    "rdylgn(0)"
   ]
  },
  {
   "cell_type": "code",
   "execution_count": null,
   "id": "7785f9fd",
   "metadata": {},
   "outputs": [],
   "source": [
    "color.min()"
   ]
  },
  {
   "cell_type": "code",
   "execution_count": null,
   "id": "5b772cfb",
   "metadata": {},
   "outputs": [],
   "source": [
    "semi_ls13 = df_[df_['property_type'] == 'semi']\n",
    "deta_ls13 = df_[df_['property_type'] == 'detached']"
   ]
  },
  {
   "cell_type": "code",
   "execution_count": null,
   "id": "eabe06c1",
   "metadata": {},
   "outputs": [],
   "source": [
    "semi_ls13['price_frac_change'] = semi_ls13['price_diff'] / semi_ls13['price_init']\n",
    "deta_ls13['price_frac_change'] = deta_ls13['price_diff'] / deta_ls13['price_init']"
   ]
  },
  {
   "cell_type": "code",
   "execution_count": null,
   "id": "6b5aafd3",
   "metadata": {},
   "outputs": [],
   "source": [
    "deta_ls13 = deta_ls13[deta_ls13['date_diff'] < 1000]\n",
    "semi_ls13 = semi_ls13[semi_ls13['date_diff'] < 1000]"
   ]
  },
  {
   "cell_type": "code",
   "execution_count": null,
   "id": "ab06f8b8",
   "metadata": {},
   "outputs": [],
   "source": [
    "semi_ls13['test'] = semi_ls13['date_final'] - datetime.today()"
   ]
  },
  {
   "cell_type": "code",
   "execution_count": null,
   "id": "f11cc00e",
   "metadata": {},
   "outputs": [],
   "source": [
    "semi_ls13['days_ago'] = semi_ls13['date_final'].apply(lambda x: (datetime.today() - x).days)\n",
    "semi_ls13_recent = semi_ls13[semi_ls13['days_ago'] < 1000]"
   ]
  },
  {
   "cell_type": "code",
   "execution_count": null,
   "id": "cdba985f",
   "metadata": {},
   "outputs": [],
   "source": [
    "semi_ls13_recent"
   ]
  },
  {
   "cell_type": "code",
   "execution_count": null,
   "id": "5accb503",
   "metadata": {},
   "outputs": [],
   "source": [
    "semi_ls13_recent ['days_ago'].values"
   ]
  },
  {
   "cell_type": "code",
   "execution_count": null,
   "id": "06fe559c",
   "metadata": {},
   "outputs": [],
   "source": [
    "groups = df_.groupby(grouping).size().reset_index().rename(columns={0: 'num_pairwise_comparisons'})\n",
    "len(groups)"
   ]
  },
  {
   "cell_type": "code",
   "execution_count": null,
   "id": "49196b6b",
   "metadata": {},
   "outputs": [],
   "source": []
  },
  {
   "cell_type": "code",
   "execution_count": null,
   "id": "3202fabf",
   "metadata": {},
   "outputs": [],
   "source": [
    "#df_s['price_diff'] = df_s['price_x'] - df_s['price_y']\n",
    "#df_s['date_diff'] = df_s['date_x'] - df_s['date_y']\n",
    "\n",
    "## there are 86400 * 10^9 nanoseconds in a day\n",
    "#df_s['date_diff'] = df_s['date_diff'].astype(int) // (86400*10**9)"
   ]
  },
  {
   "cell_type": "code",
   "execution_count": null,
   "id": "7e664358",
   "metadata": {},
   "outputs": [],
   "source": [
    "#!pip install ipympl"
   ]
  },
  {
   "cell_type": "code",
   "execution_count": null,
   "id": "3779c8fd",
   "metadata": {},
   "outputs": [],
   "source": []
  },
  {
   "cell_type": "code",
   "execution_count": null,
   "id": "8a6d0945",
   "metadata": {},
   "outputs": [],
   "source": []
  },
  {
   "cell_type": "markdown",
   "id": "3ae92703",
   "metadata": {},
   "source": [
    "### Inspect histogram of percent price change per day for all transaction pairings in groups"
   ]
  },
  {
   "cell_type": "code",
   "execution_count": null,
   "id": "50f146d9",
   "metadata": {},
   "outputs": [],
   "source": [
    "plt.hist(df_['percent_price_change_per_day'].values, bins=np.arange(-0.02, 0.02, 0.0005))\n",
    "plt.xlabel('% price change per day')\n",
    "plt.ylabel('frequency')\n",
    "plt.title('Histogram of percentage price changes per day')\n",
    "plt.show()"
   ]
  },
  {
   "cell_type": "markdown",
   "id": "a225f81f",
   "metadata": {},
   "source": [
    "There's no obvious a-priori reason to assume this distribution is Gaussian, but assuming so gives quick and dirty measure of the distribution's spread and mean:"
   ]
  },
  {
   "cell_type": "code",
   "execution_count": null,
   "id": "cf91ab81",
   "metadata": {},
   "outputs": [],
   "source": [
    "print('mean: ', round(df_['percent_price_change_per_day'].values.mean(), 4), '% price change per day')\n",
    "print('std dev: ', round(df_['percent_price_change_per_day'].values.std(), 4), '% price change per day')"
   ]
  },
  {
   "cell_type": "markdown",
   "id": "eac90508",
   "metadata": {},
   "source": [
    "https://towardsdatascience.com/6-ways-to-test-for-a-normal-distribution-which-one-to-use-9dcf47d8fa93"
   ]
  },
  {
   "cell_type": "code",
   "execution_count": null,
   "id": "3e410d26",
   "metadata": {},
   "outputs": [],
   "source": [
    "stats.shapiro(df_['percent_price_change_per_day'].values)"
   ]
  },
  {
   "cell_type": "code",
   "execution_count": null,
   "id": "033f6577",
   "metadata": {},
   "outputs": [],
   "source": [
    "stats.cauchy(df_['percent_price_change_per_day'].values)"
   ]
  },
  {
   "cell_type": "code",
   "execution_count": null,
   "id": "265dabdd",
   "metadata": {},
   "outputs": [],
   "source": []
  },
  {
   "cell_type": "code",
   "execution_count": null,
   "id": "7f4706f8",
   "metadata": {},
   "outputs": [],
   "source": []
  },
  {
   "cell_type": "code",
   "execution_count": null,
   "id": "a3685d4b",
   "metadata": {},
   "outputs": [],
   "source": []
  },
  {
   "cell_type": "code",
   "execution_count": null,
   "id": "a45743ba",
   "metadata": {},
   "outputs": [],
   "source": []
  },
  {
   "cell_type": "code",
   "execution_count": null,
   "id": "a2cb3840",
   "metadata": {},
   "outputs": [],
   "source": [
    "import statsmodels.api as sm\n",
    "#from scipy.stats import norm\n",
    "import pylab\n",
    "\n",
    "my_data = df_['percent_price_change_per_day'].values\n",
    "sm.qqplot(my_data, line='45')\n",
    "pylab.show()"
   ]
  },
  {
   "cell_type": "code",
   "execution_count": null,
   "id": "2cbadead",
   "metadata": {},
   "outputs": [],
   "source": [
    "from scipy.stats import kstest, norm\n",
    "my_data = df_['percent_price_change_per_day'].values\n",
    "ks_statistic, p_value = kstest(my_data, 'norm')\n",
    "print(ks_statistic, p_value)"
   ]
  },
  {
   "cell_type": "code",
   "execution_count": null,
   "id": "1b891fb5",
   "metadata": {},
   "outputs": [],
   "source": [
    "\"\"\"\n",
    "price_diff\n",
    "price_y (initial price)\n",
    "time_diff\n",
    "\n",
    "\"\"\""
   ]
  },
  {
   "cell_type": "code",
   "execution_count": null,
   "id": "14cd2ec7",
   "metadata": {},
   "outputs": [],
   "source": []
  },
  {
   "cell_type": "code",
   "execution_count": null,
   "id": "e59cfb2f",
   "metadata": {},
   "outputs": [],
   "source": [
    "#df_s['date_diff']"
   ]
  },
  {
   "cell_type": "code",
   "execution_count": null,
   "id": "4417e0db",
   "metadata": {},
   "outputs": [],
   "source": [
    "plt.figure(figsize=(20,20))\n",
    "plt.scatter(semi_ls13_recent['price_final'], semi_ls13_recent['price_frac_change'])\n",
    "#plt.scatter(deta_ls13['price_final'], deta_ls13['price_frac_change'])\n",
    "plt.legend()\n",
    "#plt.plot(t['date'], t['price'])"
   ]
  },
  {
   "cell_type": "code",
   "execution_count": null,
   "id": "8f85dc7a",
   "metadata": {},
   "outputs": [],
   "source": [
    "from matplotlib.dates import MonthLocator\n",
    "\n",
    "def graph2(dataframe):\n",
    "    \n",
    "    fig, ax = plt.subplots(1, 1)\n",
    "    fig.set_figheight(15)\n",
    "    fig.set_figwidth(15)\n",
    "    \n",
    "    # moving price average\n",
    "    dataframe['MA'] = dataframe['price'].rolling(window=30).mean()\n",
    "    \n",
    "    ax.scatter(dataframe['date'], dataframe['price'], alpha=0.2)\n",
    "    ax.xaxis.set_major_locator(MonthLocator())  #bymonth=1\n",
    "    ax.tick_params(axis='x', labelrotation=90)\n",
    "    ax.plot(dataframe['date'], dataframe['MA'])\n",
    "\n",
    "graph2(df_)"
   ]
  },
  {
   "cell_type": "markdown",
   "id": "2e127161",
   "metadata": {},
   "source": [
    "## Price changes as a function of price"
   ]
  },
  {
   "cell_type": "code",
   "execution_count": null,
   "id": "554b9b6e",
   "metadata": {},
   "outputs": [],
   "source": [
    "# old plotting function\n",
    "\n",
    "def graph(postcode, housetype, streetname, ):\n",
    "\n",
    "    postcode_type = df[  (df['postcode_area'] == f'{postcode}') & (df['type'] == f'{housetype}') ]\n",
    "    \n",
    "    # df for individual street\n",
    "    street = postcode_type[postcode_type['street'] == f'{streetname}']\n",
    "    \n",
    "    # price data for street\n",
    "    street_price = street.groupby(by=['months_ago']).agg({'price': 'median'})\n",
    "    \n",
    "    # moving average for street\n",
    "    street_price['MA'] = street_price['price'].rolling(window=12).mean()\n",
    "    \n",
    "    # price data for postcode area\n",
    "    postcode_type_price = postcode_type.groupby(by=['months_ago']).agg({'price': 'median'})\n",
    "    postcode_type_price = postcode_type_price.groupby(by=['months_ago']).agg({'price': 'median'})\n",
    "    \n",
    "    # moving average for postcode area\n",
    "    postcode_type_price['MA'] = postcode_type_price['price'].rolling(window=12).mean()\n",
    "    \n",
    "    plt.plot(street_price.index, street_price['price'].values,c='red',  label=f'{streetname}')\n",
    "    plt.plot(street_price.index, street_price['MA'].values, c='pink',  label=f'{streetname} moving average')\n",
    "    \n",
    "    plt.plot(postcode_type_price.index, postcode_type_price['MA'].values ,c='green',  label=f'{postcode, housetype} moving average')\n",
    "    plt.scatter(postcode_type_price.index, postcode_type_price['price'].values, c='blue', label=f'{postcode, housetype}')\n",
    "    \n",
    "    plt.rcParams[\"figure.figsize\"]=(20,20)\n",
    "    plt.xticks(rotation=90)\n",
    "    plt.legend(loc='best')\n",
    "    plt.show()\n"
   ]
  },
  {
   "cell_type": "code",
   "execution_count": null,
   "id": "d6bbe71f",
   "metadata": {},
   "outputs": [],
   "source": [
    "# choose leeds\n",
    "leeds = filter_by(df, pc_area='LS')"
   ]
  },
  {
   "cell_type": "code",
   "execution_count": null,
   "id": "c5a88048",
   "metadata": {},
   "outputs": [],
   "source": [
    "# filter by timescales spanning the beginning of Covid to present\n",
    "leeds = leeds[(leeds['date'] > '2019-10-01')]"
   ]
  },
  {
   "cell_type": "raw",
   "id": "ac962950",
   "metadata": {},
   "source": [
    "#### price increase vs. price\n",
    "\n",
    "\n",
    "# specify initial time (by month perhaps)\n",
    "# specify final time (by month perhaps)]\n",
    "\n",
    "# distinguish between houses of same type/area/street vs. same actual houses\n",
    "\n",
    "    # for houses of type/area/street\n",
    "        # find average price for that area\n",
    "        # calculate price ratio over the time interval\n",
    "    \n",
    "    # for same actual houses\n",
    "        # find all houses that have \n",
    "\n",
    "\n",
    "# 3 desired axes are:\n",
    "    # price ratio (function of t_old and t_new)\n",
    "    # locality (area, etc.)\n",
    "    # how long ago (t_new - t_old)\n",
    "\n",
    "\n",
    "simpler: (do for one locality)\n",
    "    # price ratio (function of t_old and t_new)\n",
    "    # how long ago (t_new - t_old)\n",
    "\n",
    "\n",
    "another thing to try:\n",
    "    # break down price into £10,000 bands and find all contiguous price subarrays in the range £0 to £500,000"
   ]
  },
  {
   "cell_type": "code",
   "execution_count": null,
   "id": "b813dbce",
   "metadata": {},
   "outputs": [],
   "source": [
    "leeds"
   ]
  },
  {
   "cell_type": "code",
   "execution_count": null,
   "id": "20e1bcfb",
   "metadata": {},
   "outputs": [],
   "source": [
    "t = leeds['date'].max() -  leeds['date'].min()"
   ]
  },
  {
   "cell_type": "code",
   "execution_count": null,
   "id": "cf57e7e0",
   "metadata": {},
   "outputs": [],
   "source": [
    "from dateutil import relativedelta\n",
    "\n",
    "def get_months_difference(timestamp1, timestamp2):\n",
    "    \n",
    "    r = relativedelta.relativedelta(timestamp1, timestamp2)\n",
    "\n",
    "    months_diff = (r.years * 12) + r.months\n",
    "    \n",
    "    return months_diff"
   ]
  },
  {
   "cell_type": "code",
   "execution_count": null,
   "id": "3ee96d9f",
   "metadata": {},
   "outputs": [],
   "source": [
    "leeds['months_ago'] = leeds['date'].apply(lambda x: get_months_difference(datetime.today(), x))"
   ]
  },
  {
   "cell_type": "code",
   "execution_count": null,
   "id": "4191496c",
   "metadata": {},
   "outputs": [],
   "source": [
    "datetime.today() - leeds['date'].max()"
   ]
  },
  {
   "cell_type": "code",
   "execution_count": null,
   "id": "655f1829",
   "metadata": {},
   "outputs": [],
   "source": [
    "leeds"
   ]
  },
  {
   "cell_type": "code",
   "execution_count": null,
   "id": "54cc4677",
   "metadata": {},
   "outputs": [],
   "source": [
    "leeds[leeds['months_ago'] == 2]['price'].mean()"
   ]
  },
  {
   "cell_type": "code",
   "execution_count": null,
   "id": "1bd2e016",
   "metadata": {},
   "outputs": [],
   "source": [
    "leeds[leeds['months_ago'] == 28]['price'].mean()"
   ]
  },
  {
   "cell_type": "code",
   "execution_count": null,
   "id": "e7bc5780",
   "metadata": {},
   "outputs": [],
   "source": [
    "leeds['mean_price'] = leeds['months_ago'].apply(lambda x: leeds[leeds['months_ago'] == x]['price'].mean())"
   ]
  },
  {
   "cell_type": "code",
   "execution_count": null,
   "id": "360c79ea",
   "metadata": {},
   "outputs": [],
   "source": [
    "leeds"
   ]
  },
  {
   "cell_type": "code",
   "execution_count": null,
   "id": "20493e90",
   "metadata": {},
   "outputs": [],
   "source": [
    "leeds['price_diff'] = leeds['price'] - leeds['mean_price']"
   ]
  },
  {
   "cell_type": "code",
   "execution_count": null,
   "id": "cdff014b",
   "metadata": {},
   "outputs": [],
   "source": [
    "leeds['price_ratio'] = leeds['price'] / leeds['mean_price']"
   ]
  },
  {
   "cell_type": "code",
   "execution_count": null,
   "id": "52b3c1fe",
   "metadata": {},
   "outputs": [],
   "source": [
    "test = leeds[leeds['months_ago'] == 28]\n",
    "\n",
    "plt.scatter(test['price'], test['price_diff'])\n",
    "     \n",
    "plt.rcParams[\"figure.figsize\"]=(20,20)\n",
    "plt.xticks(rotation=90)\n",
    "#plt.xlim(0, 500000)\n",
    "#plt.ylim(-1, 100000)\n",
    "\n",
    "plt.show()"
   ]
  },
  {
   "cell_type": "code",
   "execution_count": null,
   "id": "c40b0b8f",
   "metadata": {},
   "outputs": [],
   "source": []
  },
  {
   "cell_type": "code",
   "execution_count": null,
   "id": "438a50cb",
   "metadata": {},
   "outputs": [],
   "source": []
  },
  {
   "cell_type": "code",
   "execution_count": null,
   "id": "dbc87dc8",
   "metadata": {},
   "outputs": [],
   "source": [
    "#for r in t_adj.index:\n",
    "#    for c in t_adj.index:\n",
    "#        t_adj.at[r, c] = t['price'].loc[c] - t['price'].loc[r] if t['date'].loc[c] > t['date'].loc[r] else np.nan"
   ]
  },
  {
   "cell_type": "code",
   "execution_count": null,
   "id": "978f786e",
   "metadata": {},
   "outputs": [],
   "source": [
    "#df.groupby(['property'], as_index=False)[['price' , 'date']].sum()\n",
    "#df.groupby(['property'])\n",
    "#df\n",
    "\n",
    "#df = df[df['property_type'] != 'other']\n",
    "\n",
    "# df['newbuild'] = df['newbuild'].apply(lambda x: 'newbuild' if x=='Y' else ('oldbuild' if x=='N' else x))\n",
    "# df['tenure'] = df['tenure'].apply(lambda x: 'freehold' if x=='F' else('leasehold' if x=='L' else 'unknown'))\n",
    "# df['property_type'] = df['property_type'].apply(lambda x: 'detached' if x=='D' else ('semi' if x=='S' else('terraced' if x=='T' else ('flat' if x=='F' else 'other'))))\n",
    "\n",
    "#df['tenure'].value_counts()"
   ]
  },
  {
   "cell_type": "code",
   "execution_count": null,
   "id": "c43a220b",
   "metadata": {},
   "outputs": [],
   "source": [
    "#df.plot(x='date', y='price')\n",
    "#plt.show()"
   ]
  },
  {
   "cell_type": "code",
   "execution_count": null,
   "id": "ef2c7454",
   "metadata": {},
   "outputs": [],
   "source": [
    "# df = df.sort_values('date')\n",
    "# \n",
    "# df['street'] = df['street'].astype(str)\n",
    "# df['street'] = df['street'].apply(lambda x: x.lower())\n",
    "# \n",
    "# df['days_ago'] = df['date'].apply(lambda x: datetime.today() - datetime.strptime(x, '%Y-%m-%d'))\n",
    "# df['days_ago'] = df['days_ago'].apply(lambda x: str(x).split(' ')[0])\n",
    "# df['days_ago'] = df['days_ago'].apply(lambda x: -int(x))\n",
    "# df['months_ago'] = df['days_ago'].apply(lambda x: int(round( x/(365/12) ,0) ))"
   ]
  },
  {
   "cell_type": "code",
   "execution_count": null,
   "id": "94d0aa93",
   "metadata": {},
   "outputs": [],
   "source": [
    "# def graph(postcode, housetype, streetname):\n",
    "# \n",
    "#     import matplotlib.pyplot as plt\n",
    "# \n",
    "#     postcode_type = df[  (df['postcode_area'] == f'{postcode}') & (df['type'] == f'{housetype}') ]\n",
    "#     \n",
    "#     # df for individual street\n",
    "#     street = postcode_type[postcode_type['street'] == f'{streetname}']\n",
    "#     \n",
    "#     # price data for street\n",
    "#     street_price = street.groupby(by=['months_ago']).agg({'price': 'median'})\n",
    "#     \n",
    "#     # moving average for street\n",
    "#     street_price['MA'] = street_price['price'].rolling(window=12).mean()\n",
    "#     \n",
    "#     # price data for postcode area\n",
    "#     postcode_type_price = postcode_type.groupby(by=['months_ago']).agg({'price': 'median'})\n",
    "#     postcode_type_price = postcode_type_price.groupby(by=['months_ago']).agg({'price': 'median'})\n",
    "#     \n",
    "#     # moving average for postcode area\n",
    "#     postcode_type_price['MA'] = postcode_type_price['price'].rolling(window=12).mean()\n",
    "#     \n",
    "#     plt.plot(street_price.index, street_price['price'].values,c='red',  label=f'{streetname}')\n",
    "#     plt.plot(street_price.index, street_price['MA'].values, c='pink',  label=f'{streetname} moving average')\n",
    "#     \n",
    "#     plt.plot(postcode_type_price.index, postcode_type_price['MA'].values ,c='green',  label=f'{postcode, housetype} moving average')\n",
    "#     plt.scatter(postcode_type_price.index, postcode_type_price['price'].values, c='blue', label=f'{postcode, housetype}')\n",
    "#     \n",
    "#     plt.rcParams[\"figure.figsize\"]=(20,20)\n",
    "#     plt.xticks(rotation=90)\n",
    "#     plt.legend(loc='best')\n",
    "#     plt.show()"
   ]
  },
  {
   "cell_type": "code",
   "execution_count": null,
   "id": "d31ab1a3",
   "metadata": {},
   "outputs": [],
   "source": [
    "def mortgage(principal, total_period, init_period, init_payment, init_rate, subs_rate, base_rate, over_payment):\n",
    "    \n",
    "    \"\"\"\n",
    "    Mortgage payment calculator. Returns dictionary of arrays\n",
    "    \n",
    "    principal: amount borrowed in arbitrary currency, e.g. 500000\n",
    "    total_period: total mortgage duration in months\n",
    "    init_period: initial term duration in months\n",
    "    init_payment: initial monthly payment amount, e.g. 1205\n",
    "    init_rate: initial interest rate expressed as a decimal. e.g. 0.0146 for 1.46%\n",
    "    subs_rate: subsequent interest rate expressed as a decimal. e.g. 0.0376 for 3.76%\n",
    "    base_rate: Bank of England base rate. e.g. 0.001 for 0.1%\n",
    "    over_payment: optional fixed monthly overpayment\n",
    "    \"\"\"    \n",
    "    \n",
    "    # create arrays for plotting\n",
    "    interest_values = []\n",
    "    payment_values = []\n",
    "    over_payment_values = []\n",
    "    principal_values = []\n",
    "    interest_cum_values = []\n",
    "   \n",
    "    # calculate initial max overpayment\n",
    "    max_monthly_overpayment = principal*0.1*(1/12)\n",
    "    \n",
    "    # cumulative interest\n",
    "    interest_cum = 0\n",
    "    \n",
    "    # payments for months of initial period\n",
    "    for month in range(0, init_period):\n",
    "        \n",
    "        # update max available monthly overpayment each year\n",
    "        if month % 12 == 0:\n",
    "            max_monthly_overpayment = principal*0.1*(1/12)\n",
    "            \n",
    "        # calculate interest\n",
    "        interest = principal*(1 + init_rate)**(1/12) - principal\n",
    "        \n",
    "        # add to interest for this month to total interest charged\n",
    "        interest_cum += interest\n",
    "    \n",
    "        # add interest for current month\n",
    "        principal += interest\n",
    "     \n",
    "        # subtract payment amount from principal\n",
    "        if principal < init_payment:\n",
    "            principal -= principal\n",
    "            #stop payments if principal paid off\n",
    "            init_payment=0 \n",
    "            subs_payment=0\n",
    "            over_payment=0\n",
    "        else:\n",
    "            principal -= init_payment       \n",
    "            \n",
    "        # subtract overpayment from principal\n",
    "        if over_payment > max_monthly_overpayment:\n",
    "            over_payment = max_monthly_overpayment\n",
    "\n",
    "            if principal < over_payment:\n",
    "                principal -= principal\n",
    "                init_payment=0 \n",
    "                subs_payment=0\n",
    "                over_payment=0\n",
    "            else:\n",
    "                principal -= over_payment\n",
    "        else:\n",
    "            if principal < over_payment:\n",
    "                principal -= principal\n",
    "                init_payment=0 \n",
    "                subs_payment=0\n",
    "                over_payment=0\n",
    "            else:\n",
    "                principal -= over_payment\n",
    "   \n",
    "        # populate arrays for plotting\n",
    "        interest_values.append(interest)\n",
    "        interest_cum_values.append(interest_cum)\n",
    "        payment_values.append(init_payment)\n",
    "        over_payment_values.append(over_payment)\n",
    "        principal_values.append(principal)\n",
    "   \n",
    "    # calculate payments for remaining balance at new rate\n",
    "    subs_payment = ((((subs_rate+base_rate)/12))*((1+((subs_rate+base_rate)/12))**(total_period-init_period)) / (((1+((subs_rate+base_rate)/12))**(total_period-init_period)) - 1))*(principal)\n",
    "    \n",
    "    # payments for subsequent months\n",
    "    for month in range(init_period, total_period):\n",
    "        \n",
    "        # interest added\n",
    "        interest = principal*(1 + (subs_rate+base_rate))**(1/12) - principal\n",
    "        \n",
    "        # add to cumulative interest \n",
    "        interest_cum += interest\n",
    "            \n",
    "        # add interest for current month\n",
    "        principal += interest\n",
    "    \n",
    "        # subtract (minimum) payment amount from principal\n",
    "        if principal < subs_payment:\n",
    "            principal -= principal\n",
    "            #stop payments if principal paid off\n",
    "            init_payment=0 \n",
    "            subs_payment=0\n",
    "            over_payment=0\n",
    "        else:\n",
    "            principal -= subs_payment\n",
    "            \n",
    "        # subtract overpayment amount from principal\n",
    "        if principal < over_payment:\n",
    "            principal -= principal\n",
    "            #stop payments if principal paid off\n",
    "            init_payment=0 \n",
    "            subs_payment=0\n",
    "            over_payment=0\n",
    "\n",
    "        else:\n",
    "            principal -= over_payment\n",
    "        \n",
    "        # populate arrays for plotting\n",
    "        interest_values.append(interest)\n",
    "        interest_cum_values.append(interest_cum)\n",
    "        payment_values.append(subs_payment)\n",
    "        over_payment_values.append(over_payment)\n",
    "        principal_values.append(principal)\n",
    "        \n",
    "    results = dict.fromkeys(['Interest', 'Payments', 'Overpayments', 'Principal'])\n",
    "    results['Interest'] = interest_values\n",
    "    results['Payments'] = payment_values\n",
    "    results['Overpayments'] = over_payment_values\n",
    "    results['Principal'] = principal_values\n",
    "    \n",
    "    return results"
   ]
  },
  {
   "cell_type": "code",
   "execution_count": null,
   "id": "e4458e5c",
   "metadata": {},
   "outputs": [],
   "source": []
  }
 ],
 "metadata": {
  "environment": {
   "name": "common-cpu.m75",
   "type": "gcloud",
   "uri": "gcr.io/deeplearning-platform-release/base-cpu:m75"
  },
  "kernelspec": {
   "display_name": "Python 3",
   "language": "python",
   "name": "python3"
  },
  "language_info": {
   "codemirror_mode": {
    "name": "ipython",
    "version": 3
   },
   "file_extension": ".py",
   "mimetype": "text/x-python",
   "name": "python",
   "nbconvert_exporter": "python",
   "pygments_lexer": "ipython3",
   "version": "3.7.10"
  }
 },
 "nbformat": 4,
 "nbformat_minor": 5
}
