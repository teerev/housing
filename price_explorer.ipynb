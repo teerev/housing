{
 "cells": [
  {
   "cell_type": "markdown",
   "id": "0fffa710",
   "metadata": {},
   "source": [
    "# Leeds property price analytics"
   ]
  },
  {
   "cell_type": "code",
   "execution_count": 47,
   "id": "6d112fa2",
   "metadata": {},
   "outputs": [
    {
     "data": {
      "text/html": [
       "<style>.container { width:100% !important; }</style>"
      ],
      "text/plain": [
       "<IPython.core.display.HTML object>"
      ]
     },
     "metadata": {},
     "output_type": "display_data"
    }
   ],
   "source": [
    "import pandas as pd\n",
    "import numpy as np\n",
    "from matplotlib import pyplot as plt\n",
    "from datetime import datetime\n",
    "\n",
    "pd.set_option('display.max_rows', 500)\n",
    "pd.set_option('display.max_columns', 500)\n",
    "pd.set_option('display.width', 1000)\n",
    "\n",
    "# force full-width display if viewed in Chrome browser\n",
    "from IPython.core.display import display, HTML\n",
    "display(HTML(\"<style>.container { width:100% !important; }</style>\"))"
   ]
  },
  {
   "cell_type": "markdown",
   "id": "76ba9c10",
   "metadata": {},
   "source": [
    "## Download UK Land Registry price-paid data and create bigquery dataset"
   ]
  },
  {
   "cell_type": "code",
   "execution_count": null,
   "id": "15974d18",
   "metadata": {},
   "outputs": [],
   "source": [
    "# download data to the VM from source: https://www.gov.uk/government/statistical-data-sets/price-paid-data-downloads\n",
    "!wget http://prod.publicdata.landregistry.gov.uk.s3-website-eu-west-1.amazonaws.com/pp-complete.csv"
   ]
  },
  {
   "cell_type": "code",
   "execution_count": null,
   "id": "6cd7b46c",
   "metadata": {},
   "outputs": [],
   "source": [
    "# move to gcp bucket\n",
    "!gsutil mv pp-complete.csv gs://housingasodhfmq349p78vp57pasvpfphio/pp-complete.csv"
   ]
  },
  {
   "cell_type": "code",
   "execution_count": null,
   "id": "d74f1ca9",
   "metadata": {},
   "outputs": [],
   "source": [
    "# make bigquery database\n",
    "!bq mk housing"
   ]
  },
  {
   "cell_type": "code",
   "execution_count": null,
   "id": "1c4b9506",
   "metadata": {},
   "outputs": [],
   "source": [
    "# create table called 'pricepaid' in housing database\n",
    "!bq load --source_format=CSV \\\n",
    "    housing.pricepaid gs://housingasodhfmq349p78vp57pasvpfphio/pp-complete.csv \\\n",
    "    trans_id:STRING,price:INTEGER,date:STRING,postcode:STRING,type:STRING,newbuild:STRING,tenure:STRING,paon:STRING,saon:STRING,street:STRING,locality:STRING,town_city:STRING,district:STRING,county:STRING,ppd_type:STRING,record_status:STRING"
   ]
  },
  {
   "cell_type": "markdown",
   "id": "02270ab4",
   "metadata": {},
   "source": [
    "## Query data"
   ]
  },
  {
   "cell_type": "code",
   "execution_count": 72,
   "id": "aacc464a",
   "metadata": {},
   "outputs": [
    {
     "name": "stderr",
     "output_type": "stream",
     "text": [
      "Query complete after 0.00s: 100%|██████████| 1/1 [00:00<00:00, 753.56query/s] \n",
      "Downloading: 100%|██████████| 302956/302956 [00:02<00:00, 124570.59rows/s]\n"
     ]
    }
   ],
   "source": [
    "%%bigquery df\n",
    "\n",
    "SELECT * FROM housing.pricepaid\n",
    "WHERE town_city = 'LEEDS'"
   ]
  },
  {
   "cell_type": "markdown",
   "id": "e1ebb23d",
   "metadata": {},
   "source": [
    "## Inspect dataframe"
   ]
  },
  {
   "cell_type": "code",
   "execution_count": 73,
   "id": "59a17aab",
   "metadata": {},
   "outputs": [
    {
     "data": {
      "text/html": [
       "<div>\n",
       "<style scoped>\n",
       "    .dataframe tbody tr th:only-of-type {\n",
       "        vertical-align: middle;\n",
       "    }\n",
       "\n",
       "    .dataframe tbody tr th {\n",
       "        vertical-align: top;\n",
       "    }\n",
       "\n",
       "    .dataframe thead th {\n",
       "        text-align: right;\n",
       "    }\n",
       "</style>\n",
       "<table border=\"1\" class=\"dataframe\">\n",
       "  <thead>\n",
       "    <tr style=\"text-align: right;\">\n",
       "      <th></th>\n",
       "      <th>trans_id</th>\n",
       "      <th>price</th>\n",
       "      <th>date</th>\n",
       "      <th>postcode</th>\n",
       "      <th>type</th>\n",
       "      <th>newbuild</th>\n",
       "      <th>tenure</th>\n",
       "      <th>paon</th>\n",
       "      <th>saon</th>\n",
       "      <th>street</th>\n",
       "      <th>locality</th>\n",
       "      <th>town_city</th>\n",
       "      <th>district</th>\n",
       "      <th>county</th>\n",
       "      <th>ppd_type</th>\n",
       "      <th>record_status</th>\n",
       "    </tr>\n",
       "  </thead>\n",
       "  <tbody>\n",
       "    <tr>\n",
       "      <th>0</th>\n",
       "      <td>{80B98B64-F7A8-4F75-8D6B-CF92348EA779}</td>\n",
       "      <td>187000</td>\n",
       "      <td>2004-01-30 00:00</td>\n",
       "      <td>LS17 7SH</td>\n",
       "      <td>D</td>\n",
       "      <td>N</td>\n",
       "      <td>F</td>\n",
       "      <td>17</td>\n",
       "      <td></td>\n",
       "      <td>SUNNINGDALE DRIVE</td>\n",
       "      <td>LEEDS</td>\n",
       "      <td>LEEDS</td>\n",
       "      <td>LEEDS</td>\n",
       "      <td>WEST YORKSHIRE</td>\n",
       "      <td>A</td>\n",
       "      <td>A</td>\n",
       "    </tr>\n",
       "    <tr>\n",
       "      <th>1</th>\n",
       "      <td>{21E5FEB5-D94C-2439-E050-A8C06205342E}</td>\n",
       "      <td>267000</td>\n",
       "      <td>2014-08-26 00:00</td>\n",
       "      <td>LS7 4LY</td>\n",
       "      <td>D</td>\n",
       "      <td>N</td>\n",
       "      <td>F</td>\n",
       "      <td>1C</td>\n",
       "      <td></td>\n",
       "      <td>CHURCH LANE</td>\n",
       "      <td>CHAPEL ALLERTON</td>\n",
       "      <td>LEEDS</td>\n",
       "      <td>LEEDS</td>\n",
       "      <td>WEST YORKSHIRE</td>\n",
       "      <td>B</td>\n",
       "      <td>A</td>\n",
       "    </tr>\n",
       "    <tr>\n",
       "      <th>2</th>\n",
       "      <td>{DFCBEA35-78ED-4CB1-B892-119778FCEEA5}</td>\n",
       "      <td>304000</td>\n",
       "      <td>2015-09-17 00:00</td>\n",
       "      <td>LS17 8XR</td>\n",
       "      <td>D</td>\n",
       "      <td>N</td>\n",
       "      <td>F</td>\n",
       "      <td>19</td>\n",
       "      <td></td>\n",
       "      <td>OAKDENE WAY</td>\n",
       "      <td></td>\n",
       "      <td>LEEDS</td>\n",
       "      <td>LEEDS</td>\n",
       "      <td>WEST YORKSHIRE</td>\n",
       "      <td>A</td>\n",
       "      <td>A</td>\n",
       "    </tr>\n",
       "    <tr>\n",
       "      <th>3</th>\n",
       "      <td>{5BD5D826-4B53-4D3E-852A-8DA733041E3C}</td>\n",
       "      <td>66000</td>\n",
       "      <td>1998-10-02 00:00</td>\n",
       "      <td>LS12 5LX</td>\n",
       "      <td>D</td>\n",
       "      <td>N</td>\n",
       "      <td>F</td>\n",
       "      <td>2</td>\n",
       "      <td></td>\n",
       "      <td>WATER LANE</td>\n",
       "      <td>LEEDS</td>\n",
       "      <td>LEEDS</td>\n",
       "      <td>LEEDS</td>\n",
       "      <td>WEST YORKSHIRE</td>\n",
       "      <td>A</td>\n",
       "      <td>A</td>\n",
       "    </tr>\n",
       "  </tbody>\n",
       "</table>\n",
       "</div>"
      ],
      "text/plain": [
       "                                 trans_id   price              date  postcode type newbuild tenure paon saon             street         locality town_city district          county ppd_type record_status\n",
       "0  {80B98B64-F7A8-4F75-8D6B-CF92348EA779}  187000  2004-01-30 00:00  LS17 7SH    D        N      F   17       SUNNINGDALE DRIVE            LEEDS     LEEDS    LEEDS  WEST YORKSHIRE        A             A\n",
       "1  {21E5FEB5-D94C-2439-E050-A8C06205342E}  267000  2014-08-26 00:00   LS7 4LY    D        N      F   1C             CHURCH LANE  CHAPEL ALLERTON     LEEDS    LEEDS  WEST YORKSHIRE        B             A\n",
       "2  {DFCBEA35-78ED-4CB1-B892-119778FCEEA5}  304000  2015-09-17 00:00  LS17 8XR    D        N      F   19             OAKDENE WAY                      LEEDS    LEEDS  WEST YORKSHIRE        A             A\n",
       "3  {5BD5D826-4B53-4D3E-852A-8DA733041E3C}   66000  1998-10-02 00:00  LS12 5LX    D        N      F    2              WATER LANE            LEEDS     LEEDS    LEEDS  WEST YORKSHIRE        A             A"
      ]
     },
     "execution_count": 73,
     "metadata": {},
     "output_type": "execute_result"
    }
   ],
   "source": [
    "df.head(4)"
   ]
  },
  {
   "cell_type": "code",
   "execution_count": 74,
   "id": "7b414364",
   "metadata": {},
   "outputs": [
    {
     "data": {
      "text/plain": [
       "trans_id         302956\n",
       "price             12063\n",
       "date               7702\n",
       "postcode          14067\n",
       "type                  5\n",
       "newbuild              2\n",
       "tenure                3\n",
       "paon               6205\n",
       "saon               2348\n",
       "street             8956\n",
       "locality            120\n",
       "town_city             1\n",
       "district             11\n",
       "county                4\n",
       "ppd_type              2\n",
       "record_status         1\n",
       "dtype: int64"
      ]
     },
     "execution_count": 74,
     "metadata": {},
     "output_type": "execute_result"
    }
   ],
   "source": [
    "df.nunique()"
   ]
  },
  {
   "cell_type": "code",
   "execution_count": 75,
   "id": "6a1c5379",
   "metadata": {},
   "outputs": [
    {
     "data": {
      "text/plain": [
       "trans_id         object\n",
       "price             int64\n",
       "date             object\n",
       "postcode         object\n",
       "type             object\n",
       "newbuild         object\n",
       "tenure           object\n",
       "paon             object\n",
       "saon             object\n",
       "street           object\n",
       "locality         object\n",
       "town_city        object\n",
       "district         object\n",
       "county           object\n",
       "ppd_type         object\n",
       "record_status    object\n",
       "dtype: object"
      ]
     },
     "execution_count": 75,
     "metadata": {},
     "output_type": "execute_result"
    }
   ],
   "source": [
    "# check data types\n",
    "df.dtypes"
   ]
  },
  {
   "cell_type": "markdown",
   "id": "279bd619",
   "metadata": {},
   "source": [
    "## Pre-processing"
   ]
  },
  {
   "cell_type": "markdown",
   "id": "0867da43",
   "metadata": {},
   "source": [
    "#### 1. Postcode"
   ]
  },
  {
   "cell_type": "code",
   "execution_count": 76,
   "id": "9e5c274c",
   "metadata": {},
   "outputs": [
    {
     "data": {
      "text/plain": [
       "202"
      ]
     },
     "execution_count": 76,
     "metadata": {},
     "output_type": "execute_result"
    }
   ],
   "source": [
    "# Some rows have missing postcodes\n",
    "len(df[df['postcode'] == ''])"
   ]
  },
  {
   "cell_type": "code",
   "execution_count": 77,
   "id": "114ff7b1",
   "metadata": {},
   "outputs": [
    {
     "data": {
      "text/plain": [
       "0"
      ]
     },
     "execution_count": 77,
     "metadata": {},
     "output_type": "execute_result"
    }
   ],
   "source": [
    "# Check for null entries in postcode column\n",
    "len(df[df['postcode'].isnull()])"
   ]
  },
  {
   "cell_type": "code",
   "execution_count": 78,
   "id": "42fd2df9",
   "metadata": {},
   "outputs": [],
   "source": [
    "# Discard rows with empty string postcodes \n",
    "df = df[df['postcode'] != '']"
   ]
  },
  {
   "cell_type": "code",
   "execution_count": 79,
   "id": "a55d6315",
   "metadata": {},
   "outputs": [
    {
     "data": {
      "text/plain": [
       "True"
      ]
     },
     "execution_count": 79,
     "metadata": {},
     "output_type": "execute_result"
    }
   ],
   "source": [
    "# Check that all postcodes have space\n",
    "len(df[df['postcode'].str.contains(' ')]) == len(df)"
   ]
  },
  {
   "cell_type": "code",
   "execution_count": 80,
   "id": "39d773b2",
   "metadata": {},
   "outputs": [],
   "source": [
    "# Break down postcodes into components: area, district, sector ,and unit.\n",
    "def get_postcode_component(postcode, component):\n",
    "    \n",
    "    \"\"\"\n",
    "    Returns part of all of a postcode string resolved into area, district, sector or unit. \n",
    "    \n",
    "    UK postcodes take any of the following formats, where A denotes alphabetical\n",
    "    and N denotes numeric:\n",
    "    \n",
    "    AN NAA \n",
    "    ANN NAA\n",
    "    AAN NAA\n",
    "    AANN NAA\n",
    "    ANA NAA\n",
    "    AANA NAA\n",
    "    \n",
    "    (source: https://assets.publishing.service.gov.uk/government/uploads/system/uploads/attachment_data/file/611951/Appendix_C_ILR_2017_to_2018_v1_Published_28April17.pdf)\n",
    "    \n",
    "    - Area is the leftmost substring of alpha characters until (and excluding) a numeric character .Format: A or AA.\n",
    "    - District is the substring commencing with numeric after the area, and before the space. Format: N, NN, or NA.\n",
    "    - Sector is the first numeric character after the space. Format: N.\n",
    "    - Unit is the rightmost substring. Format: AA.\n",
    "   \n",
    "    e.g.:\n",
    "    >> get_postcode_component('RG40 2WD', component='sector')\n",
    "    >> RG40 2   \n",
    "    \n",
    "    e.g. 2:\n",
    "    >> get_postcode_component('EC1A 3HX', component='area')\n",
    "    >> EC\n",
    "    \n",
    "    e.g. 3:\n",
    "    >> get_postcode_component('EC1A 3HX', component='district')\n",
    "    >> EC1A\n",
    "    \"\"\"\n",
    "    \n",
    "    # e.g. EC1A 3HX   /   RG40 3HX\n",
    "    area_and_district = list(postcode.split(' ')[0])  # ['E', 'C', '1', 'A']   /   ['R', 'G', '4', '0']\n",
    "    sector_and_unit = list(postcode.split(' ')[1])    # ['3', 'H', 'X']        /   ['3', 'H', 'X']\n",
    "    \n",
    "    if component == 'area':\n",
    "        for idx, el in enumerate(area_and_district):\n",
    "            if el.isnumeric():\n",
    "                area = ''.join(area_and_district[:idx]) # EC  /  RG\n",
    "                return area        \n",
    "\n",
    "    elif component == 'district':\n",
    "        for idx, el in enumerate(area_and_district):\n",
    "            if el.isnumeric():\n",
    "                district = ''.join(area_and_district[idx:]) # 1A  /  40\n",
    "                return district\n",
    "                \n",
    "    elif component == 'sector':\n",
    "        for idx, el in enumerate(sector_and_unit):\n",
    "            if not el.isnumeric():\n",
    "                sector = ''.join(sector_and_unit[:idx])   # 3   /   2\n",
    "                return sector\n",
    "                \n",
    "    elif component == 'unit':\n",
    "        for idx, el in enumerate(sector_and_unit):\n",
    "            if not el.isnumeric():\n",
    "                unit = ''.join(sector_and_unit[idx:])   # HX  /   QS\n",
    "                return unit\n",
    "    \n",
    "    else:\n",
    "        return None"
   ]
  },
  {
   "cell_type": "code",
   "execution_count": 81,
   "id": "a8400b34",
   "metadata": {},
   "outputs": [
    {
     "name": "stdout",
     "output_type": "stream",
     "text": [
      "A1 2BC area: : A\n",
      "A1 2BC district: : 1\n",
      "A1 2BC sector: : 2\n",
      "A1 2BC unit: : BC\n",
      "A12 3BC area: : A\n",
      "A12 3BC district: : 12\n",
      "A12 3BC sector: : 3\n",
      "A12 3BC unit: : BC\n",
      "AB1 2BC area: : AB\n",
      "AB1 2BC district: : 1\n",
      "AB1 2BC sector: : 2\n",
      "AB1 2BC unit: : BC\n",
      "AB12 3CD area: : AB\n",
      "AB12 3CD district: : 12\n",
      "AB12 3CD sector: : 3\n",
      "AB12 3CD unit: : CD\n",
      "A1B 2BC area: : A\n",
      "A1B 2BC district: : 1B\n",
      "A1B 2BC sector: : 2\n",
      "A1B 2BC unit: : BC\n",
      "AB1C 2DE area: : AB\n",
      "AB1C 2DE district: : 1C\n",
      "AB1C 2DE sector: : 2\n",
      "AB1C 2DE unit: : DE\n"
     ]
    }
   ],
   "source": [
    "# unit tests\n",
    "test_postcodes = ['A1 2BC', 'A12 3BC', 'AB1 2BC', 'AB12 3CD', 'A1B 2BC', 'AB1C 2DE']\n",
    "\n",
    "for postcode in test_postcodes:\n",
    "    print(postcode, 'area: :', get_postcode_component(postcode, component='area'))\n",
    "    print(postcode, 'district: :', get_postcode_component(postcode, component='district'))\n",
    "    print(postcode, 'sector: :', get_postcode_component(postcode, component='sector'))\n",
    "    print(postcode, 'unit: :', get_postcode_component(postcode, component='unit'))"
   ]
  },
  {
   "cell_type": "code",
   "execution_count": 82,
   "id": "6e01ce2b",
   "metadata": {},
   "outputs": [],
   "source": [
    "# create new columns with postcode components\n",
    "df['pc_area'] = df['postcode'].apply(lambda x: get_postcode_component(x, 'area'))\n",
    "df['pc_district'] = df['postcode'].apply(lambda x: get_postcode_component(x, 'district'))\n",
    "df['pc_sector'] = df['postcode'].apply(lambda x: get_postcode_component(x, 'sector'))\n",
    "df['pc_unit'] = df['postcode'].apply(lambda x: get_postcode_component(x, 'unit'))"
   ]
  },
  {
   "cell_type": "code",
   "execution_count": 83,
   "id": "e80486d5",
   "metadata": {},
   "outputs": [
    {
     "data": {
      "text/plain": [
       "trans_id         302754\n",
       "price             12043\n",
       "date               7699\n",
       "postcode          14066\n",
       "type                  5\n",
       "newbuild              2\n",
       "tenure                3\n",
       "paon               6122\n",
       "saon               2321\n",
       "street             8944\n",
       "locality            119\n",
       "town_city             1\n",
       "district             11\n",
       "county                4\n",
       "ppd_type              2\n",
       "record_status         1\n",
       "pc_area               1\n",
       "pc_district          25\n",
       "pc_sector            10\n",
       "pc_unit             387\n",
       "dtype: int64"
      ]
     },
     "execution_count": 83,
     "metadata": {},
     "output_type": "execute_result"
    }
   ],
   "source": [
    "df.nunique()"
   ]
  },
  {
   "cell_type": "markdown",
   "id": "07b471e3",
   "metadata": {},
   "source": [
    "#### 2. Date"
   ]
  },
  {
   "cell_type": "code",
   "execution_count": 84,
   "id": "bfee1837",
   "metadata": {},
   "outputs": [],
   "source": [
    "# convert dates to timestamp and discard meaningless hours/minutes data\n",
    "df['date'] = df['date'].apply(lambda x: datetime.strptime(x, '%Y-%m-%d %H:%M'))"
   ]
  },
  {
   "cell_type": "code",
   "execution_count": 85,
   "id": "123950c6",
   "metadata": {},
   "outputs": [
    {
     "data": {
      "text/html": [
       "<div>\n",
       "<style scoped>\n",
       "    .dataframe tbody tr th:only-of-type {\n",
       "        vertical-align: middle;\n",
       "    }\n",
       "\n",
       "    .dataframe tbody tr th {\n",
       "        vertical-align: top;\n",
       "    }\n",
       "\n",
       "    .dataframe thead th {\n",
       "        text-align: right;\n",
       "    }\n",
       "</style>\n",
       "<table border=\"1\" class=\"dataframe\">\n",
       "  <thead>\n",
       "    <tr style=\"text-align: right;\">\n",
       "      <th></th>\n",
       "      <th>trans_id</th>\n",
       "      <th>price</th>\n",
       "      <th>date</th>\n",
       "      <th>postcode</th>\n",
       "      <th>type</th>\n",
       "      <th>newbuild</th>\n",
       "      <th>tenure</th>\n",
       "      <th>paon</th>\n",
       "      <th>saon</th>\n",
       "      <th>street</th>\n",
       "      <th>locality</th>\n",
       "      <th>town_city</th>\n",
       "      <th>district</th>\n",
       "      <th>county</th>\n",
       "      <th>ppd_type</th>\n",
       "      <th>record_status</th>\n",
       "      <th>pc_area</th>\n",
       "      <th>pc_district</th>\n",
       "      <th>pc_sector</th>\n",
       "      <th>pc_unit</th>\n",
       "    </tr>\n",
       "  </thead>\n",
       "  <tbody>\n",
       "    <tr>\n",
       "      <th>0</th>\n",
       "      <td>{80B98B64-F7A8-4F75-8D6B-CF92348EA779}</td>\n",
       "      <td>187000</td>\n",
       "      <td>2004-01-30</td>\n",
       "      <td>LS17 7SH</td>\n",
       "      <td>D</td>\n",
       "      <td>N</td>\n",
       "      <td>F</td>\n",
       "      <td>17</td>\n",
       "      <td></td>\n",
       "      <td>SUNNINGDALE DRIVE</td>\n",
       "      <td>LEEDS</td>\n",
       "      <td>LEEDS</td>\n",
       "      <td>LEEDS</td>\n",
       "      <td>WEST YORKSHIRE</td>\n",
       "      <td>A</td>\n",
       "      <td>A</td>\n",
       "      <td>LS</td>\n",
       "      <td>17</td>\n",
       "      <td>7</td>\n",
       "      <td>SH</td>\n",
       "    </tr>\n",
       "    <tr>\n",
       "      <th>1</th>\n",
       "      <td>{21E5FEB5-D94C-2439-E050-A8C06205342E}</td>\n",
       "      <td>267000</td>\n",
       "      <td>2014-08-26</td>\n",
       "      <td>LS7 4LY</td>\n",
       "      <td>D</td>\n",
       "      <td>N</td>\n",
       "      <td>F</td>\n",
       "      <td>1C</td>\n",
       "      <td></td>\n",
       "      <td>CHURCH LANE</td>\n",
       "      <td>CHAPEL ALLERTON</td>\n",
       "      <td>LEEDS</td>\n",
       "      <td>LEEDS</td>\n",
       "      <td>WEST YORKSHIRE</td>\n",
       "      <td>B</td>\n",
       "      <td>A</td>\n",
       "      <td>LS</td>\n",
       "      <td>7</td>\n",
       "      <td>4</td>\n",
       "      <td>LY</td>\n",
       "    </tr>\n",
       "    <tr>\n",
       "      <th>2</th>\n",
       "      <td>{DFCBEA35-78ED-4CB1-B892-119778FCEEA5}</td>\n",
       "      <td>304000</td>\n",
       "      <td>2015-09-17</td>\n",
       "      <td>LS17 8XR</td>\n",
       "      <td>D</td>\n",
       "      <td>N</td>\n",
       "      <td>F</td>\n",
       "      <td>19</td>\n",
       "      <td></td>\n",
       "      <td>OAKDENE WAY</td>\n",
       "      <td></td>\n",
       "      <td>LEEDS</td>\n",
       "      <td>LEEDS</td>\n",
       "      <td>WEST YORKSHIRE</td>\n",
       "      <td>A</td>\n",
       "      <td>A</td>\n",
       "      <td>LS</td>\n",
       "      <td>17</td>\n",
       "      <td>8</td>\n",
       "      <td>XR</td>\n",
       "    </tr>\n",
       "    <tr>\n",
       "      <th>3</th>\n",
       "      <td>{5BD5D826-4B53-4D3E-852A-8DA733041E3C}</td>\n",
       "      <td>66000</td>\n",
       "      <td>1998-10-02</td>\n",
       "      <td>LS12 5LX</td>\n",
       "      <td>D</td>\n",
       "      <td>N</td>\n",
       "      <td>F</td>\n",
       "      <td>2</td>\n",
       "      <td></td>\n",
       "      <td>WATER LANE</td>\n",
       "      <td>LEEDS</td>\n",
       "      <td>LEEDS</td>\n",
       "      <td>LEEDS</td>\n",
       "      <td>WEST YORKSHIRE</td>\n",
       "      <td>A</td>\n",
       "      <td>A</td>\n",
       "      <td>LS</td>\n",
       "      <td>12</td>\n",
       "      <td>5</td>\n",
       "      <td>LX</td>\n",
       "    </tr>\n",
       "    <tr>\n",
       "      <th>4</th>\n",
       "      <td>{BA77456B-DB14-4FC9-849C-481AB50ECC93}</td>\n",
       "      <td>269000</td>\n",
       "      <td>2010-10-29</td>\n",
       "      <td>LS26 8WY</td>\n",
       "      <td>D</td>\n",
       "      <td>N</td>\n",
       "      <td>F</td>\n",
       "      <td>11</td>\n",
       "      <td></td>\n",
       "      <td>ELDER RISE</td>\n",
       "      <td>WOODLESFORD</td>\n",
       "      <td>LEEDS</td>\n",
       "      <td>LEEDS</td>\n",
       "      <td>WEST YORKSHIRE</td>\n",
       "      <td>A</td>\n",
       "      <td>A</td>\n",
       "      <td>LS</td>\n",
       "      <td>26</td>\n",
       "      <td>8</td>\n",
       "      <td>WY</td>\n",
       "    </tr>\n",
       "  </tbody>\n",
       "</table>\n",
       "</div>"
      ],
      "text/plain": [
       "                                 trans_id   price       date  postcode type newbuild tenure paon saon             street         locality town_city district          county ppd_type record_status pc_area pc_district pc_sector pc_unit\n",
       "0  {80B98B64-F7A8-4F75-8D6B-CF92348EA779}  187000 2004-01-30  LS17 7SH    D        N      F   17       SUNNINGDALE DRIVE            LEEDS     LEEDS    LEEDS  WEST YORKSHIRE        A             A      LS          17         7      SH\n",
       "1  {21E5FEB5-D94C-2439-E050-A8C06205342E}  267000 2014-08-26   LS7 4LY    D        N      F   1C             CHURCH LANE  CHAPEL ALLERTON     LEEDS    LEEDS  WEST YORKSHIRE        B             A      LS           7         4      LY\n",
       "2  {DFCBEA35-78ED-4CB1-B892-119778FCEEA5}  304000 2015-09-17  LS17 8XR    D        N      F   19             OAKDENE WAY                      LEEDS    LEEDS  WEST YORKSHIRE        A             A      LS          17         8      XR\n",
       "3  {5BD5D826-4B53-4D3E-852A-8DA733041E3C}   66000 1998-10-02  LS12 5LX    D        N      F    2              WATER LANE            LEEDS     LEEDS    LEEDS  WEST YORKSHIRE        A             A      LS          12         5      LX\n",
       "4  {BA77456B-DB14-4FC9-849C-481AB50ECC93}  269000 2010-10-29  LS26 8WY    D        N      F   11              ELDER RISE      WOODLESFORD     LEEDS    LEEDS  WEST YORKSHIRE        A             A      LS          26         8      WY"
      ]
     },
     "execution_count": 85,
     "metadata": {},
     "output_type": "execute_result"
    }
   ],
   "source": [
    "df.head()"
   ]
  },
  {
   "cell_type": "code",
   "execution_count": null,
   "id": "59eae9a4",
   "metadata": {},
   "outputs": [],
   "source": [
    "df.plot(x='date', y='price')\n",
    "plt.show()"
   ]
  },
  {
   "cell_type": "code",
   "execution_count": null,
   "id": "85ca1e38",
   "metadata": {},
   "outputs": [],
   "source": [
    "df['address'] = df['paon'] + ', ' + df['postcode']"
   ]
  },
  {
   "cell_type": "code",
   "execution_count": null,
   "id": "1e217673",
   "metadata": {},
   "outputs": [],
   "source": [
    "df['paon'].nunique()"
   ]
  },
  {
   "cell_type": "code",
   "execution_count": null,
   "id": "eb3afd8c",
   "metadata": {},
   "outputs": [],
   "source": []
  },
  {
   "cell_type": "code",
   "execution_count": null,
   "id": "5b6264af",
   "metadata": {},
   "outputs": [],
   "source": []
  },
  {
   "cell_type": "code",
   "execution_count": null,
   "id": "f1a92d3f",
   "metadata": {},
   "outputs": [],
   "source": []
  },
  {
   "cell_type": "code",
   "execution_count": null,
   "id": "f2bd65af",
   "metadata": {},
   "outputs": [],
   "source": [
    "df['address'].value_counts()"
   ]
  },
  {
   "cell_type": "code",
   "execution_count": null,
   "id": "0d8b032f",
   "metadata": {},
   "outputs": [],
   "source": [
    "# df = df.sort_values('date')\n",
    "# \n",
    "# df['street'] = df['street'].astype(str)\n",
    "# df['street'] = df['street'].apply(lambda x: x.lower())\n",
    "# \n",
    "# df['days_ago'] = df['date'].apply(lambda x: datetime.today() - datetime.strptime(x, '%Y-%m-%d'))\n",
    "# df['days_ago'] = df['days_ago'].apply(lambda x: str(x).split(' ')[0])\n",
    "# df['days_ago'] = df['days_ago'].apply(lambda x: -int(x))\n",
    "# df['months_ago'] = df['days_ago'].apply(lambda x: int(round( x/(365/12) ,0) ))"
   ]
  },
  {
   "cell_type": "code",
   "execution_count": null,
   "id": "8807a09d",
   "metadata": {},
   "outputs": [],
   "source": [
    "# def graph(postcode, housetype, streetname):\n",
    "# \n",
    "#     import matplotlib.pyplot as plt\n",
    "# \n",
    "#     postcode_type = df[  (df['postcode_area'] == f'{postcode}') & (df['type'] == f'{housetype}') ]\n",
    "#     \n",
    "#     # df for individual street\n",
    "#     street = postcode_type[postcode_type['street'] == f'{streetname}']\n",
    "#     \n",
    "#     # price data for street\n",
    "#     street_price = street.groupby(by=['months_ago']).agg({'price': 'median'})\n",
    "#     \n",
    "#     # moving average for street\n",
    "#     street_price['MA'] = street_price['price'].rolling(window=12).mean()\n",
    "#     \n",
    "#     # price data for postcode area\n",
    "#     postcode_type_price = postcode_type.groupby(by=['months_ago']).agg({'price': 'median'})\n",
    "#     postcode_type_price = postcode_type_price.groupby(by=['months_ago']).agg({'price': 'median'})\n",
    "#     \n",
    "#     # moving average for postcode area\n",
    "#     postcode_type_price['MA'] = postcode_type_price['price'].rolling(window=12).mean()\n",
    "#     \n",
    "#     plt.plot(street_price.index, street_price['price'].values,c='red',  label=f'{streetname}')\n",
    "#     plt.plot(street_price.index, street_price['MA'].values, c='pink',  label=f'{streetname} moving average')\n",
    "#     \n",
    "#     plt.plot(postcode_type_price.index, postcode_type_price['MA'].values ,c='green',  label=f'{postcode, housetype} moving average')\n",
    "#     plt.scatter(postcode_type_price.index, postcode_type_price['price'].values, c='blue', label=f'{postcode, housetype}')\n",
    "#     \n",
    "#     plt.rcParams[\"figure.figsize\"]=(20,20)\n",
    "#     plt.xticks(rotation=90)\n",
    "#     plt.legend(loc='best')\n",
    "#     plt.show()"
   ]
  },
  {
   "cell_type": "code",
   "execution_count": null,
   "id": "75393181",
   "metadata": {},
   "outputs": [],
   "source": [
    "def mortgage(principal, total_period, init_period, init_payment, init_rate, subs_rate, base_rate, over_payment):\n",
    "    \n",
    "    \"\"\"\n",
    "    Mortgage payment calculator. Returns dictionary of arrays\n",
    "    \n",
    "    principal: amount borrowed in arbitrary currency, e.g. 500000\n",
    "    total_period: total mortgage duration in months\n",
    "    init_period: initial term duration in months\n",
    "    init_payment: initial monthly payment amount, e.g. 1205\n",
    "    init_rate: initial interest rate expressed as a decimal. e.g. 0.0146 for 1.46%\n",
    "    subs_rate: subsequent interest rate expressed as a decimal. e.g. 0.0376 for 3.76%\n",
    "    base_rate: Bank of England base rate. e.g. 0.001 for 0.1%\n",
    "    over_payment: optional fixed monthly overpayment\n",
    "    \"\"\"    \n",
    "    \n",
    "    # create arrays for plotting\n",
    "    interest_values = []\n",
    "    payment_values = []\n",
    "    over_payment_values = []\n",
    "    principal_values = []\n",
    "    interest_cum_values = []\n",
    "   \n",
    "    # calculate initial max overpayment\n",
    "    max_monthly_overpayment = principal*0.1*(1/12)\n",
    "    \n",
    "    # cumulative interest\n",
    "    interest_cum = 0\n",
    "    \n",
    "    # payments for months of initial period\n",
    "    for month in range(0, init_period):\n",
    "        \n",
    "        # update max available monthly overpayment each year\n",
    "        if month % 12 == 0:\n",
    "            max_monthly_overpayment = principal*0.1*(1/12)\n",
    "            \n",
    "        # calculate interest\n",
    "        interest = principal*(1 + init_rate)**(1/12) - principal\n",
    "        \n",
    "        # add to interest for this month to total interest charged\n",
    "        interest_cum += interest\n",
    "    \n",
    "        # add interest for current month\n",
    "        principal += interest\n",
    "     \n",
    "        # subtract payment amount from principal\n",
    "        if principal < init_payment:\n",
    "            principal -= principal\n",
    "            #stop payments if principal paid off\n",
    "            init_payment=0 \n",
    "            subs_payment=0\n",
    "            over_payment=0\n",
    "        else:\n",
    "            principal -= init_payment       \n",
    "            \n",
    "        # subtract overpayment from principal\n",
    "        if over_payment > max_monthly_overpayment:\n",
    "            over_payment = max_monthly_overpayment\n",
    "\n",
    "            if principal < over_payment:\n",
    "                principal -= principal\n",
    "                init_payment=0 \n",
    "                subs_payment=0\n",
    "                over_payment=0\n",
    "            else:\n",
    "                principal -= over_payment\n",
    "        else:\n",
    "            if principal < over_payment:\n",
    "                principal -= principal\n",
    "                init_payment=0 \n",
    "                subs_payment=0\n",
    "                over_payment=0\n",
    "            else:\n",
    "                principal -= over_payment\n",
    "   \n",
    "        # populate arrays for plotting\n",
    "        interest_values.append(interest)\n",
    "        interest_cum_values.append(interest_cum)\n",
    "        payment_values.append(init_payment)\n",
    "        over_payment_values.append(over_payment)\n",
    "        principal_values.append(principal)\n",
    "   \n",
    "    # calculate payments for remaining balance at new rate\n",
    "    subs_payment = ((((subs_rate+base_rate)/12))*((1+((subs_rate+base_rate)/12))**(total_period-init_period)) / (((1+((subs_rate+base_rate)/12))**(total_period-init_period)) - 1))*(principal)\n",
    "    \n",
    "    # payments for subsequent months\n",
    "    for month in range(init_period, total_period):\n",
    "        \n",
    "        # interest added\n",
    "        interest = principal*(1 + (subs_rate+base_rate))**(1/12) - principal\n",
    "        \n",
    "        # add to cumulative interest \n",
    "        interest_cum += interest\n",
    "            \n",
    "        # add interest for current month\n",
    "        principal += interest\n",
    "    \n",
    "        # subtract (minimum) payment amount from principal\n",
    "        if principal < subs_payment:\n",
    "            principal -= principal\n",
    "            #stop payments if principal paid off\n",
    "            init_payment=0 \n",
    "            subs_payment=0\n",
    "            over_payment=0\n",
    "        else:\n",
    "            principal -= subs_payment\n",
    "            \n",
    "        # subtract overpayment amount from principal\n",
    "        if principal < over_payment:\n",
    "            principal -= principal\n",
    "            #stop payments if principal paid off\n",
    "            init_payment=0 \n",
    "            subs_payment=0\n",
    "            over_payment=0\n",
    "\n",
    "        else:\n",
    "            principal -= over_payment\n",
    "        \n",
    "        # populate arrays for plotting\n",
    "        interest_values.append(interest)\n",
    "        interest_cum_values.append(interest_cum)\n",
    "        payment_values.append(subs_payment)\n",
    "        over_payment_values.append(over_payment)\n",
    "        principal_values.append(principal)\n",
    "        \n",
    "    results = dict.fromkeys(['Interest', 'Payments', 'Overpayments', 'Principal'])\n",
    "    results['Interest'] = interest_values\n",
    "    results['Payments'] = payment_values\n",
    "    results['Overpayments'] = over_payment_values\n",
    "    results['Principal'] = principal_values\n",
    "    \n",
    "    return results"
   ]
  },
  {
   "cell_type": "code",
   "execution_count": null,
   "id": "13da4d14",
   "metadata": {},
   "outputs": [],
   "source": []
  }
 ],
 "metadata": {
  "environment": {
   "name": "common-cpu.m75",
   "type": "gcloud",
   "uri": "gcr.io/deeplearning-platform-release/base-cpu:m75"
  },
  "kernelspec": {
   "display_name": "Python 3",
   "language": "python",
   "name": "python3"
  },
  "language_info": {
   "codemirror_mode": {
    "name": "ipython",
    "version": 3
   },
   "file_extension": ".py",
   "mimetype": "text/x-python",
   "name": "python",
   "nbconvert_exporter": "python",
   "pygments_lexer": "ipython3",
   "version": "3.7.10"
  }
 },
 "nbformat": 4,
 "nbformat_minor": 5
}
